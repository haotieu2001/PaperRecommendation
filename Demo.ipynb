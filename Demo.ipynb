{
 "cells": [
  {
   "cell_type": "code",
   "execution_count": 1,
   "id": "ec3ee08c-4912-4361-93e2-382fb2cd8763",
   "metadata": {},
   "outputs": [],
   "source": [
    "!pip install gradio -qq"
   ]
  },
  {
   "cell_type": "code",
   "execution_count": 2,
   "id": "9a111b96-349a-4fc2-9b09-27acb5013816",
   "metadata": {},
   "outputs": [],
   "source": [
    "!pip install -U sentence-transformers -qq"
   ]
  },
  {
   "cell_type": "code",
   "execution_count": 3,
   "id": "10ed8b57-aa0a-4e5f-8163-7774792dddb2",
   "metadata": {},
   "outputs": [],
   "source": [
    "import gradio as gr\n",
    "import pandas as pd\n",
    "import numpy as np\n",
    "import torch\n",
    "from sklearn.feature_extraction.text import TfidfVectorizer\n",
    "from sklearn.metrics.pairwise import cosine_similarity\n",
    "from sklearn.neighbors import NearestNeighbors\n",
    "from sklearn.feature_extraction.text import CountVectorizer\n",
    "from sentence_transformers import SentenceTransformer, util"
   ]
  },
  {
   "cell_type": "code",
   "execution_count": 4,
   "id": "1c2037ac-b904-4a50-81a1-2a5cdcc0e0e0",
   "metadata": {},
   "outputs": [],
   "source": [
    "data = pd.read_csv(\"data_ml.csv\")\n",
    "data = data[:9990]\n",
    "data = data[[\"Id\", \"Title\",\"Summary\"]]"
   ]
  },
  {
   "cell_type": "code",
   "execution_count": 5,
   "id": "742c8622-9e44-42cf-90ef-15afddc0f99f",
   "metadata": {},
   "outputs": [
    {
     "data": {
      "application/vnd.jupyter.widget-view+json": {
       "model_id": "a4dac60f1d0c4ecb8167c428cbb0daed",
       "version_major": 2,
       "version_minor": 0
      },
      "text/plain": [
       "Downloading:   0%|          | 0.00/690 [00:00<?, ?B/s]"
      ]
     },
     "metadata": {},
     "output_type": "display_data"
    },
    {
     "data": {
      "application/vnd.jupyter.widget-view+json": {
       "model_id": "b9386046379a483d824eb52cf4da2c11",
       "version_major": 2,
       "version_minor": 0
      },
      "text/plain": [
       "Downloading:   0%|          | 0.00/190 [00:00<?, ?B/s]"
      ]
     },
     "metadata": {},
     "output_type": "display_data"
    },
    {
     "data": {
      "application/vnd.jupyter.widget-view+json": {
       "model_id": "dbabf3515b69482dbbdcbf329942a4db",
       "version_major": 2,
       "version_minor": 0
      },
      "text/plain": [
       "Downloading:   0%|          | 0.00/4.01k [00:00<?, ?B/s]"
      ]
     },
     "metadata": {},
     "output_type": "display_data"
    },
    {
     "data": {
      "application/vnd.jupyter.widget-view+json": {
       "model_id": "1e6cd9ad0ff4454bb7aaf8591b80db3a",
       "version_major": 2,
       "version_minor": 0
      },
      "text/plain": [
       "Downloading:   0%|          | 0.00/629 [00:00<?, ?B/s]"
      ]
     },
     "metadata": {},
     "output_type": "display_data"
    },
    {
     "data": {
      "application/vnd.jupyter.widget-view+json": {
       "model_id": "80926df31895433a84204a0a28eb7686",
       "version_major": 2,
       "version_minor": 0
      },
      "text/plain": [
       "Downloading:   0%|          | 0.00/122 [00:00<?, ?B/s]"
      ]
     },
     "metadata": {},
     "output_type": "display_data"
    },
    {
     "data": {
      "application/vnd.jupyter.widget-view+json": {
       "model_id": "4bdbf57f32454584b3d7bfbf3fcfc628",
       "version_major": 2,
       "version_minor": 0
      },
      "text/plain": [
       "Downloading:   0%|          | 0.00/69.6M [00:00<?, ?B/s]"
      ]
     },
     "metadata": {},
     "output_type": "display_data"
    },
    {
     "data": {
      "application/vnd.jupyter.widget-view+json": {
       "model_id": "c1fc62dd34164da0b140f4415d32609f",
       "version_major": 2,
       "version_minor": 0
      },
      "text/plain": [
       "Downloading:   0%|          | 0.00/53.0 [00:00<?, ?B/s]"
      ]
     },
     "metadata": {},
     "output_type": "display_data"
    },
    {
     "data": {
      "application/vnd.jupyter.widget-view+json": {
       "model_id": "a2a22f6a4fa84e57ac14c521ce3543af",
       "version_major": 2,
       "version_minor": 0
      },
      "text/plain": [
       "Downloading:   0%|          | 0.00/112 [00:00<?, ?B/s]"
      ]
     },
     "metadata": {},
     "output_type": "display_data"
    },
    {
     "data": {
      "application/vnd.jupyter.widget-view+json": {
       "model_id": "c4f7a13fb7bb4d1aa1b400c3f3ed784c",
       "version_major": 2,
       "version_minor": 0
      },
      "text/plain": [
       "Downloading:   0%|          | 0.00/466k [00:00<?, ?B/s]"
      ]
     },
     "metadata": {},
     "output_type": "display_data"
    },
    {
     "data": {
      "application/vnd.jupyter.widget-view+json": {
       "model_id": "8a088420b83e43e1adf533698c79179d",
       "version_major": 2,
       "version_minor": 0
      },
      "text/plain": [
       "Downloading:   0%|          | 0.00/314 [00:00<?, ?B/s]"
      ]
     },
     "metadata": {},
     "output_type": "display_data"
    },
    {
     "data": {
      "application/vnd.jupyter.widget-view+json": {
       "model_id": "79f07f9b46884b5f8bfbb357160ed4f6",
       "version_major": 2,
       "version_minor": 0
      },
      "text/plain": [
       "Downloading:   0%|          | 0.00/232k [00:00<?, ?B/s]"
      ]
     },
     "metadata": {},
     "output_type": "display_data"
    },
    {
     "data": {
      "application/vnd.jupyter.widget-view+json": {
       "model_id": "95afaa2d676443b598f0f4d9c5e9c472",
       "version_major": 2,
       "version_minor": 0
      },
      "text/plain": [
       "Downloading:   0%|          | 0.00/229 [00:00<?, ?B/s]"
      ]
     },
     "metadata": {},
     "output_type": "display_data"
    }
   ],
   "source": [
    "model = SentenceTransformer('paraphrase-MiniLM-L3-v2')"
   ]
  },
  {
   "cell_type": "code",
   "execution_count": 6,
   "id": "e793bacd-4d6c-49da-a3b1-0d51d6f2afb2",
   "metadata": {},
   "outputs": [],
   "source": [
    "def consine_test(title):\n",
    "    tfidfvectorizer = TfidfVectorizer(ngram_range=(1,1))\n",
    "    tfidfmatrix = tfidfvectorizer.fit_transform(data.Summary)\n",
    "    data_frame = pd.DataFrame(tfidfmatrix.toarray())\n",
    "    cosine_sim = cosine_similarity(tfidfvectorizer.transform([title]).toarray()[0].reshape(1,-1), data_frame)\n",
    "    arr = np.array(cosine_sim[0])\n",
    "    ind = np.argpartition(arr, -10)[-10:]\n",
    "    title_list = [data.loc[i].Title for i in ind ]\n",
    "    url_list = [\"http://arxiv.org/abs/\"+ data.loc[i].Id for i in ind ]\n",
    "    title_str = \"\"\n",
    "    url_str = \"\"\n",
    "    for i in range(10):\n",
    "        title_str += str(i+1) + \".  - \" + title_list[i] + \"\\n\\n\"\n",
    "        url_str += str(i+1) + \".  - \" + url_list[i] + \"\\n\"\n",
    "    # title_str = \"\\n\\n - \".join(title_list)\n",
    "    # url_str = \"\\n\".join(url_list)\n",
    "    return  f\"TITLE LIST :\\n{title_str}\\n\\nURL LIST :\\n{url_str}\""
   ]
  },
  {
   "cell_type": "code",
   "execution_count": 7,
   "id": "cbe62fd6-5723-473d-8725-50a28480ff97",
   "metadata": {},
   "outputs": [],
   "source": [
    "def knn_recommendation(title):\n",
    "    neigh = NearestNeighbors ( n_neighbors=10,algorithm='auto',leaf_size=30,metric=\"cosine\")\n",
    "    vectorizer = CountVectorizer()\n",
    "    featurevectors = vectorizer.fit_transform ( data.Summary.tolist()).todense ()\n",
    "    neigh.fit ( featurevectors )\n",
    "    text = vectorizer.transform([title]).toarray()\n",
    "    final_knn = neigh.kneighbors(text, return_distance=False)\n",
    "    final_knn_list = final_knn.tolist()\n",
    "    title_list = [data.loc[i].Title for i in final_knn_list[0]]\n",
    "    url_list = [\"http://arxiv.org/abs/\"+data.loc[i].Id for i in final_knn_list[0]]\n",
    "    title_str = \"\"\n",
    "    url_str = \"\"\n",
    "    for i in range(10):\n",
    "        title_str += str(i+1) + \".  - \" + title_list[i] + \"\\n\\n\"\n",
    "        url_str += str(i+1) + \".  - \" + url_list[i] + \"\\n\"\n",
    "    # title_str = \"\\n\\n - \".join(title_list)\n",
    "    # url_str = \"\\n\".join(url_list)\n",
    "    return  f\"TITLE LIST :\\n{title_str}\\n\\nURL LIST :\\n{url_str}\""
   ]
  },
  {
   "cell_type": "code",
   "execution_count": 8,
   "id": "3c6e49f0-02ed-4b30-aec3-a7bd58ba2840",
   "metadata": {},
   "outputs": [],
   "source": [
    "def ST_recommendation(title):\n",
    "    sentences1 = data.Summary.tolist()\n",
    "    embeddings1 = model.encode(sentences1, convert_to_tensor=True)\n",
    "    embeddings2 = model.encode(title, convert_to_tensor=True)\n",
    "    cosine_scores = util.cos_sim(embeddings1, embeddings2)\n",
    "    top10 = torch.topk(cosine_scores.reshape(1,-1),10).indices[0].tolist()\n",
    "    title_list = [data.loc[i].Title for i in top10]\n",
    "    url_list = [\"http://arxiv.org/abs/\"+data.loc[i].Id for i in top10]\n",
    "    title_str = \"\"\n",
    "    url_str = \"\"\n",
    "    for i in range(10):\n",
    "        title_str += str(i+1) + \".  - \" + title_list[i] + \"\\n\\n\"\n",
    "        url_str += str(i+1) + \".  - \" + url_list[i] + \"\\n\"\n",
    "    # title_str = \"\\n\\n - \".join(title_list)\n",
    "    # url_str = \"\\n\".join(url_list)\n",
    "    return  f\"TITLE LIST :\\n{title_str}\\n\\nURL LIST :\\n{url_str}\""
   ]
  },
  {
   "cell_type": "code",
   "execution_count": 10,
   "id": "3958d10b-31ec-417a-8931-39e85b331ea0",
   "metadata": {},
   "outputs": [
    {
     "name": "stderr",
     "output_type": "stream",
     "text": [
      "/usr/local/lib/python3.9/dist-packages/gradio/inputs.py:216: UserWarning: Usage of gradio.inputs is deprecated, and will not be supported in the future, please import your component from gradio.components\n",
      "  warnings.warn(\n",
      "/usr/local/lib/python3.9/dist-packages/gradio/deprecation.py:40: UserWarning: `optional` parameter is deprecated, and it has no effect\n",
      "  warnings.warn(value)\n"
     ]
    },
    {
     "name": "stdout",
     "output_type": "stream",
     "text": [
      "Running on local URL:  http://127.0.0.1:7861\n",
      "\n",
      "Setting up a public link... we have recently upgraded the way public links are generated. If you encounter any problems, please report the issue and downgrade to gradio version 3.13.0\n",
      ".\n",
      "huggingface/tokenizers: The current process just got forked, after parallelism has already been used. Disabling parallelism to avoid deadlocks...\n",
      "To disable this warning, you can either:\n",
      "\t- Avoid using `tokenizers` before the fork if possible\n",
      "\t- Explicitly set the environment variable TOKENIZERS_PARALLELISM=(true | false)\n",
      "Running on public URL: https://82c3f9ae-9f86-4c8a.gradio.live\n",
      "\n",
      "This share link expires in 72 hours. For free permanent hosting and GPU upgrades (NEW!), check out Spaces: https://huggingface.co/spaces\n"
     ]
    },
    {
     "data": {
      "text/html": [
       "<div><iframe src=\"https://82c3f9ae-9f86-4c8a.gradio.live\" width=\"100%\" height=\"500\" allow=\"autoplay; camera; microphone; clipboard-read; clipboard-write;\" frameborder=\"0\" allowfullscreen></iframe></div>"
      ],
      "text/plain": [
       "<IPython.core.display.HTML object>"
      ]
     },
     "metadata": {},
     "output_type": "display_data"
    },
    {
     "data": {
      "text/plain": []
     },
     "execution_count": 10,
     "metadata": {},
     "output_type": "execute_result"
    }
   ],
   "source": [
    "sample = \"A Nonlinear PID-Enhanced Adaptive Latent Factor Analysis Model\"\n",
    "def fn(model_choice, input):\n",
    "    if model_choice==\"tfidf_CosineSimilarity\":\n",
    "        return consine_test(input)\n",
    "    elif model_choice==\"KNN\":\n",
    "        return knn_recommendation(input)\n",
    "    elif model_choice == \"SentenceTransformers\":\n",
    "        return ST_recommendation(input)\n",
    "\n",
    "gr.Interface(fn, [gr.inputs.Dropdown([\"tfidf_CosineSimilarity\", \"KNN\", \"SentenceTransformers\"]), gr.Textbox(placeholder=\"Paper title\")],\n",
    "             gr.Textbox(placeholder=\"Title and URL of Recommended papers\"),\n",
    "             examples=[[\"tfidf_CosineSimilarity\", \"Node Copying: A Random Graph Model for Effective Graph Sampling\"],\n",
    "                       [\"KNN\", \"Node Copying: A Random Graph Model for Effective Graph Sampling\"],\n",
    "                       [\"SentenceTransformers\", \"Node Copying: A Random Graph Model for Effective Graph Sampling\"]],\n",
    "             title=\"Research Paper Recommendation\").launch(share=True)\n"
   ]
  },
  {
   "cell_type": "code",
   "execution_count": null,
   "id": "4bf8200d-055d-407d-a760-fdddd91ceb74",
   "metadata": {},
   "outputs": [],
   "source": []
  }
 ],
 "metadata": {
  "kernelspec": {
   "display_name": "Python 3 (ipykernel)",
   "language": "python",
   "name": "python3"
  },
  "language_info": {
   "codemirror_mode": {
    "name": "ipython",
    "version": 3
   },
   "file_extension": ".py",
   "mimetype": "text/x-python",
   "name": "python",
   "nbconvert_exporter": "python",
   "pygments_lexer": "ipython3",
   "version": "3.9.13"
  }
 },
 "nbformat": 4,
 "nbformat_minor": 5
}
