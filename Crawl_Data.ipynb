{
  "nbformat": 4,
  "nbformat_minor": 0,
  "metadata": {
    "colab": {
      "provenance": []
    },
    "kernelspec": {
      "name": "python3",
      "display_name": "Python 3"
    },
    "language_info": {
      "name": "python"
    },
    "accelerator": "GPU",
    "gpuClass": "standard"
  },
  "cells": [
    {
      "cell_type": "code",
      "source": [
        "import pandas as pd\n",
        "import csv\n",
        "import datetime\n",
        "from datetime import date"
      ],
      "metadata": {
        "id": "WVIE6bvpF8JG"
      },
      "execution_count": 1,
      "outputs": []
    },
    {
      "cell_type": "code",
      "source": [
        "#connect drive\n",
        "from google.colab import drive\n",
        "drive.mount('/content/drive')"
      ],
      "metadata": {
        "colab": {
          "base_uri": "https://localhost:8080/"
        },
        "id": "mYJ6dCC3H2Q9",
        "outputId": "37237978-7eef-47bf-d89c-091a3e8fe11d"
      },
      "execution_count": 2,
      "outputs": [
        {
          "output_type": "stream",
          "name": "stdout",
          "text": [
            "Mounted at /content/drive\n"
          ]
        }
      ]
    },
    {
      "cell_type": "markdown",
      "source": [
        "#crawl data\n"
      ],
      "metadata": {
        "id": "_diwiWRzF1aV"
      }
    },
    {
      "cell_type": "code",
      "source": [
        "pip install arxiv"
      ],
      "metadata": {
        "id": "JqQXt9Ki0Ueu",
        "colab": {
          "base_uri": "https://localhost:8080/"
        },
        "outputId": "9e7f6b4e-06ef-4a48-a2f1-ee28e64dd805"
      },
      "execution_count": null,
      "outputs": [
        {
          "output_type": "stream",
          "name": "stdout",
          "text": [
            "Looking in indexes: https://pypi.org/simple, https://us-python.pkg.dev/colab-wheels/public/simple/\n",
            "Collecting arxiv\n",
            "  Downloading arxiv-1.4.2-py3-none-any.whl (11 kB)\n",
            "Collecting feedparser\n",
            "  Downloading feedparser-6.0.10-py3-none-any.whl (81 kB)\n",
            "\u001b[K     |████████████████████████████████| 81 kB 5.0 MB/s \n",
            "\u001b[?25hCollecting sgmllib3k\n",
            "  Downloading sgmllib3k-1.0.0.tar.gz (5.8 kB)\n",
            "Building wheels for collected packages: sgmllib3k\n",
            "  Building wheel for sgmllib3k (setup.py) ... \u001b[?25l\u001b[?25hdone\n",
            "  Created wheel for sgmllib3k: filename=sgmllib3k-1.0.0-py3-none-any.whl size=6066 sha256=23487bcf31e476c08e42747bb03c1afee7841402e1429c3079ba9f021b056ee0\n",
            "  Stored in directory: /root/.cache/pip/wheels/73/ad/a4/0dff4a6ef231fc0dfa12ffbac2a36cebfdddfe059f50e019aa\n",
            "Successfully built sgmllib3k\n",
            "Installing collected packages: sgmllib3k, feedparser, arxiv\n",
            "Successfully installed arxiv-1.4.2 feedparser-6.0.10 sgmllib3k-1.0.0\n"
          ]
        }
      ]
    },
    {
      "cell_type": "code",
      "source": [
        "import arxiv"
      ],
      "metadata": {
        "id": "LlSEWjvtHu7u"
      },
      "execution_count": null,
      "outputs": []
    },
    {
      "cell_type": "code",
      "source": [
        "data=['Title','Date','Id','Authors','Summary','Categories','URL']"
      ],
      "metadata": {
        "id": "fytrCBT7HhHy"
      },
      "execution_count": null,
      "outputs": []
    },
    {
      "cell_type": "code",
      "source": [
        "search = arxiv.Search(\n",
        "  query= \"\\\"machine learning\\\"\",\n",
        "  max_results = 10000 ,\n",
        "  sort_by = arxiv.SortCriterion.SubmittedDate,\n",
        "  sort_order = arxiv.SortOrder.Descending\n",
        ")"
      ],
      "metadata": {
        "id": "oj3hPaOKGK3k"
      },
      "execution_count": null,
      "outputs": []
    },
    {
      "cell_type": "code",
      "source": [
        "title_1=[]\n",
        "published_1=[]\n",
        "entry_id_1=[]\n",
        "summary_1=[]\n",
        "pdf_url_1=[]\n",
        "authors_1=[]\n",
        "categories_1=[]\n",
        "for result in search.results():\n",
        "  title_1.append(result.title)\n",
        "  published_1.append(result.published)\n",
        "  entry_id_1.append(result.entry_id)\n",
        "  summary_1.append(result.summary)\n",
        "  pdf_url_1.append(result.pdf_url)\n",
        "  authors_1.append(result.authors)\n",
        "  categories_1.append(result.categories)\n",
        "\n"
      ],
      "metadata": {
        "id": "qgY_ZTQGGL_E"
      },
      "execution_count": null,
      "outputs": []
    },
    {
      "cell_type": "code",
      "source": [
        "df={'Title':title_1, 'Date':published_1 ,'Authors': authors_1, 'Id':entry_id_1, 'Summary':summary_1 ,'Categories':categories_1,'URL':pdf_url_1}\n",
        "data=pd.DataFrame(df)"
      ],
      "metadata": {
        "id": "FH-joxmvGSUU"
      },
      "execution_count": null,
      "outputs": []
    },
    {
      "cell_type": "code",
      "source": [
        "df_2={'Title':title_1, 'Date':published_1 , 'Id':entry_id_1, 'Summary':summary_1 ,'URL':pdf_url_1}\n",
        "data_ds=pd.DataFrame(df_2)"
      ],
      "metadata": {
        "id": "jJm6YbaGwMCd"
      },
      "execution_count": null,
      "outputs": []
    },
    {
      "cell_type": "code",
      "source": [
        "#connect drive\n",
        "from google.colab import drive\n",
        "drive.mount('/content/drive')"
      ],
      "metadata": {
        "colab": {
          "base_uri": "https://localhost:8080/"
        },
        "id": "jhTH7lCFKkp0",
        "outputId": "d63884b5-e6e5-40c7-be83-466d92570ef6"
      },
      "execution_count": null,
      "outputs": [
        {
          "output_type": "stream",
          "name": "stdout",
          "text": [
            "Mounted at /content/drive\n"
          ]
        }
      ]
    },
    {
      "cell_type": "code",
      "source": [
        "len(data)"
      ],
      "metadata": {
        "colab": {
          "base_uri": "https://localhost:8080/"
        },
        "id": "gP0Bn2O5UBqA",
        "outputId": "dc7a4ae4-256b-4bfb-9c27-e9b31bbf32e6"
      },
      "execution_count": null,
      "outputs": [
        {
          "output_type": "execute_result",
          "data": {
            "text/plain": [
              "10000"
            ]
          },
          "metadata": {},
          "execution_count": 11
        }
      ]
    },
    {
      "cell_type": "code",
      "source": [
        "data.to_csv(\"datarcm.csv\")"
      ],
      "metadata": {
        "id": "xoyAkBwTCuIX"
      },
      "execution_count": null,
      "outputs": []
    },
    {
      "cell_type": "code",
      "source": [
        "data\n"
      ],
      "metadata": {
        "colab": {
          "base_uri": "https://localhost:8080/",
          "height": 815
        },
        "id": "fuMKFL725faw",
        "outputId": "fa17e671-43a1-48ac-9e03-f039b3aad064"
      },
      "execution_count": null,
      "outputs": [
        {
          "output_type": "execute_result",
          "data": {
            "text/plain": [
              "                                                  Title  \\\n",
              "0     On the Transferability of Visual Features in G...   \n",
              "1     Videogenic: Video Highlights via Photogenic Mo...   \n",
              "2               VideoMap: Video Editing in Latent Space   \n",
              "3     ModelDiff: A Framework for Comparing Learning ...   \n",
              "4     Shortcomings of Top-Down Randomization-Based S...   \n",
              "...                                                 ...   \n",
              "9995  A Principled Method for the Creation of Synthe...   \n",
              "9996  Top Gear or Black Mirror: Inferring Political ...   \n",
              "9997  Goodness of Fit Metrics for Multi-class Predictor   \n",
              "9998  Embedding Compression with Hashing for Efficie...   \n",
              "9999  Heterogeneous Line Graph Transformer for Math ...   \n",
              "\n",
              "                          Date  \\\n",
              "0    2022-11-22 18:59:09+00:00   \n",
              "1    2022-11-22 18:59:04+00:00   \n",
              "2    2022-11-22 18:58:22+00:00   \n",
              "3    2022-11-22 18:56:52+00:00   \n",
              "4    2022-11-22 18:52:38+00:00   \n",
              "...                        ...   \n",
              "9995 2022-08-11 06:55:14+00:00   \n",
              "9996 2022-08-11 06:41:23+00:00   \n",
              "9997 2022-08-11 06:07:29+00:00   \n",
              "9998 2022-08-11 05:43:39+00:00   \n",
              "9999 2022-08-11 05:27:05+00:00   \n",
              "\n",
              "                                                Authors            Id  \\\n",
              "0     [Paola Cascante-Bonilla, Leonid Karlinsky, Jam...  2211.12494v1   \n",
              "1     [David Chuan-En Lin, Fabian Caba Heilbron, Joo...  2211.12493v1   \n",
              "2     [David Chuan-En Lin, Fabian Caba Heilbron, Joo...  2211.12492v1   \n",
              "3     [Harshay Shah, Sung Min Park, Andrew Ilyas, Al...  2211.12491v1   \n",
              "4     [Alexander Binder, Leander Weber, Sebastian La...  2211.12486v1   \n",
              "...                                                 ...           ...   \n",
              "9995  [Clyde Fare, Peter Fenner, Edward O. Pyzer-Knapp]  2208.05667v2   \n",
              "9996                      [Ahmet Kurnaz, Scott A. Hale]  2208.05662v1   \n",
              "9997                             [Uri Itai, Natan Katz]  2208.05651v1   \n",
              "9998  [Chin-Chia Michael Yeh, Mengting Gu, Yan Zheng...  2208.05648v1   \n",
              "9999                            [Zijian Hu, Meng Jiang]  2208.05645v2   \n",
              "\n",
              "                                                Summary  \\\n",
              "0     Generalized Zero-Shot Learning (GZSL) aims to ...   \n",
              "1     This paper investigates the challenge of extra...   \n",
              "2     Video has become a dominant form of media. How...   \n",
              "3     We study the problem of (learning) algorithm c...   \n",
              "4     While the evaluation of explanations is an imp...   \n",
              "...                                                 ...   \n",
              "9995  Multifidelity and multioutput optimisation alg...   \n",
              "9996  Polarization and echo chambers are often studi...   \n",
              "9997  The multi-class prediction had gained populari...   \n",
              "9998  Graph neural networks (GNNs) are deep learning...   \n",
              "9999  This paper describes the design and implementa...   \n",
              "\n",
              "                   Categories                                URL  \n",
              "0              [cs.CV, cs.LG]  http://arxiv.org/pdf/2211.12494v1  \n",
              "1       [cs.CV, cs.HC, cs.MM]  http://arxiv.org/pdf/2211.12493v1  \n",
              "2       [cs.HC, cs.CV, cs.MM]  http://arxiv.org/pdf/2211.12492v1  \n",
              "3     [cs.LG, cs.CV, stat.ML]  http://arxiv.org/pdf/2211.12491v1  \n",
              "4              [cs.LG, cs.CV]  http://arxiv.org/pdf/2211.12486v1  \n",
              "...                       ...                                ...  \n",
              "9995         [stat.ML, cs.LG]  http://arxiv.org/pdf/2208.05667v2  \n",
              "9996    [cs.SI, cs.CL, cs.CY]  http://arxiv.org/pdf/2208.05662v1  \n",
              "9997                  [cs.LG]  http://arxiv.org/pdf/2208.05651v1  \n",
              "9998    [cs.LG, cs.AI, cs.DB]  http://arxiv.org/pdf/2208.05648v1  \n",
              "9999    [cs.LG, cs.AI, cs.CL]  http://arxiv.org/pdf/2208.05645v2  \n",
              "\n",
              "[10000 rows x 7 columns]"
            ],
            "text/html": [
              "\n",
              "  <div id=\"df-2258dadc-cec0-4d89-b06c-3f1432b2bfd7\">\n",
              "    <div class=\"colab-df-container\">\n",
              "      <div>\n",
              "<style scoped>\n",
              "    .dataframe tbody tr th:only-of-type {\n",
              "        vertical-align: middle;\n",
              "    }\n",
              "\n",
              "    .dataframe tbody tr th {\n",
              "        vertical-align: top;\n",
              "    }\n",
              "\n",
              "    .dataframe thead th {\n",
              "        text-align: right;\n",
              "    }\n",
              "</style>\n",
              "<table border=\"1\" class=\"dataframe\">\n",
              "  <thead>\n",
              "    <tr style=\"text-align: right;\">\n",
              "      <th></th>\n",
              "      <th>Title</th>\n",
              "      <th>Date</th>\n",
              "      <th>Authors</th>\n",
              "      <th>Id</th>\n",
              "      <th>Summary</th>\n",
              "      <th>Categories</th>\n",
              "      <th>URL</th>\n",
              "    </tr>\n",
              "  </thead>\n",
              "  <tbody>\n",
              "    <tr>\n",
              "      <th>0</th>\n",
              "      <td>On the Transferability of Visual Features in G...</td>\n",
              "      <td>2022-11-22 18:59:09+00:00</td>\n",
              "      <td>[Paola Cascante-Bonilla, Leonid Karlinsky, Jam...</td>\n",
              "      <td>2211.12494v1</td>\n",
              "      <td>Generalized Zero-Shot Learning (GZSL) aims to ...</td>\n",
              "      <td>[cs.CV, cs.LG]</td>\n",
              "      <td>http://arxiv.org/pdf/2211.12494v1</td>\n",
              "    </tr>\n",
              "    <tr>\n",
              "      <th>1</th>\n",
              "      <td>Videogenic: Video Highlights via Photogenic Mo...</td>\n",
              "      <td>2022-11-22 18:59:04+00:00</td>\n",
              "      <td>[David Chuan-En Lin, Fabian Caba Heilbron, Joo...</td>\n",
              "      <td>2211.12493v1</td>\n",
              "      <td>This paper investigates the challenge of extra...</td>\n",
              "      <td>[cs.CV, cs.HC, cs.MM]</td>\n",
              "      <td>http://arxiv.org/pdf/2211.12493v1</td>\n",
              "    </tr>\n",
              "    <tr>\n",
              "      <th>2</th>\n",
              "      <td>VideoMap: Video Editing in Latent Space</td>\n",
              "      <td>2022-11-22 18:58:22+00:00</td>\n",
              "      <td>[David Chuan-En Lin, Fabian Caba Heilbron, Joo...</td>\n",
              "      <td>2211.12492v1</td>\n",
              "      <td>Video has become a dominant form of media. How...</td>\n",
              "      <td>[cs.HC, cs.CV, cs.MM]</td>\n",
              "      <td>http://arxiv.org/pdf/2211.12492v1</td>\n",
              "    </tr>\n",
              "    <tr>\n",
              "      <th>3</th>\n",
              "      <td>ModelDiff: A Framework for Comparing Learning ...</td>\n",
              "      <td>2022-11-22 18:56:52+00:00</td>\n",
              "      <td>[Harshay Shah, Sung Min Park, Andrew Ilyas, Al...</td>\n",
              "      <td>2211.12491v1</td>\n",
              "      <td>We study the problem of (learning) algorithm c...</td>\n",
              "      <td>[cs.LG, cs.CV, stat.ML]</td>\n",
              "      <td>http://arxiv.org/pdf/2211.12491v1</td>\n",
              "    </tr>\n",
              "    <tr>\n",
              "      <th>4</th>\n",
              "      <td>Shortcomings of Top-Down Randomization-Based S...</td>\n",
              "      <td>2022-11-22 18:52:38+00:00</td>\n",
              "      <td>[Alexander Binder, Leander Weber, Sebastian La...</td>\n",
              "      <td>2211.12486v1</td>\n",
              "      <td>While the evaluation of explanations is an imp...</td>\n",
              "      <td>[cs.LG, cs.CV]</td>\n",
              "      <td>http://arxiv.org/pdf/2211.12486v1</td>\n",
              "    </tr>\n",
              "    <tr>\n",
              "      <th>...</th>\n",
              "      <td>...</td>\n",
              "      <td>...</td>\n",
              "      <td>...</td>\n",
              "      <td>...</td>\n",
              "      <td>...</td>\n",
              "      <td>...</td>\n",
              "      <td>...</td>\n",
              "    </tr>\n",
              "    <tr>\n",
              "      <th>9995</th>\n",
              "      <td>A Principled Method for the Creation of Synthe...</td>\n",
              "      <td>2022-08-11 06:55:14+00:00</td>\n",
              "      <td>[Clyde Fare, Peter Fenner, Edward O. Pyzer-Knapp]</td>\n",
              "      <td>2208.05667v2</td>\n",
              "      <td>Multifidelity and multioutput optimisation alg...</td>\n",
              "      <td>[stat.ML, cs.LG]</td>\n",
              "      <td>http://arxiv.org/pdf/2208.05667v2</td>\n",
              "    </tr>\n",
              "    <tr>\n",
              "      <th>9996</th>\n",
              "      <td>Top Gear or Black Mirror: Inferring Political ...</td>\n",
              "      <td>2022-08-11 06:41:23+00:00</td>\n",
              "      <td>[Ahmet Kurnaz, Scott A. Hale]</td>\n",
              "      <td>2208.05662v1</td>\n",
              "      <td>Polarization and echo chambers are often studi...</td>\n",
              "      <td>[cs.SI, cs.CL, cs.CY]</td>\n",
              "      <td>http://arxiv.org/pdf/2208.05662v1</td>\n",
              "    </tr>\n",
              "    <tr>\n",
              "      <th>9997</th>\n",
              "      <td>Goodness of Fit Metrics for Multi-class Predictor</td>\n",
              "      <td>2022-08-11 06:07:29+00:00</td>\n",
              "      <td>[Uri Itai, Natan Katz]</td>\n",
              "      <td>2208.05651v1</td>\n",
              "      <td>The multi-class prediction had gained populari...</td>\n",
              "      <td>[cs.LG]</td>\n",
              "      <td>http://arxiv.org/pdf/2208.05651v1</td>\n",
              "    </tr>\n",
              "    <tr>\n",
              "      <th>9998</th>\n",
              "      <td>Embedding Compression with Hashing for Efficie...</td>\n",
              "      <td>2022-08-11 05:43:39+00:00</td>\n",
              "      <td>[Chin-Chia Michael Yeh, Mengting Gu, Yan Zheng...</td>\n",
              "      <td>2208.05648v1</td>\n",
              "      <td>Graph neural networks (GNNs) are deep learning...</td>\n",
              "      <td>[cs.LG, cs.AI, cs.DB]</td>\n",
              "      <td>http://arxiv.org/pdf/2208.05648v1</td>\n",
              "    </tr>\n",
              "    <tr>\n",
              "      <th>9999</th>\n",
              "      <td>Heterogeneous Line Graph Transformer for Math ...</td>\n",
              "      <td>2022-08-11 05:27:05+00:00</td>\n",
              "      <td>[Zijian Hu, Meng Jiang]</td>\n",
              "      <td>2208.05645v2</td>\n",
              "      <td>This paper describes the design and implementa...</td>\n",
              "      <td>[cs.LG, cs.AI, cs.CL]</td>\n",
              "      <td>http://arxiv.org/pdf/2208.05645v2</td>\n",
              "    </tr>\n",
              "  </tbody>\n",
              "</table>\n",
              "<p>10000 rows × 7 columns</p>\n",
              "</div>\n",
              "      <button class=\"colab-df-convert\" onclick=\"convertToInteractive('df-2258dadc-cec0-4d89-b06c-3f1432b2bfd7')\"\n",
              "              title=\"Convert this dataframe to an interactive table.\"\n",
              "              style=\"display:none;\">\n",
              "        \n",
              "  <svg xmlns=\"http://www.w3.org/2000/svg\" height=\"24px\"viewBox=\"0 0 24 24\"\n",
              "       width=\"24px\">\n",
              "    <path d=\"M0 0h24v24H0V0z\" fill=\"none\"/>\n",
              "    <path d=\"M18.56 5.44l.94 2.06.94-2.06 2.06-.94-2.06-.94-.94-2.06-.94 2.06-2.06.94zm-11 1L8.5 8.5l.94-2.06 2.06-.94-2.06-.94L8.5 2.5l-.94 2.06-2.06.94zm10 10l.94 2.06.94-2.06 2.06-.94-2.06-.94-.94-2.06-.94 2.06-2.06.94z\"/><path d=\"M17.41 7.96l-1.37-1.37c-.4-.4-.92-.59-1.43-.59-.52 0-1.04.2-1.43.59L10.3 9.45l-7.72 7.72c-.78.78-.78 2.05 0 2.83L4 21.41c.39.39.9.59 1.41.59.51 0 1.02-.2 1.41-.59l7.78-7.78 2.81-2.81c.8-.78.8-2.07 0-2.86zM5.41 20L4 18.59l7.72-7.72 1.47 1.35L5.41 20z\"/>\n",
              "  </svg>\n",
              "      </button>\n",
              "      \n",
              "  <style>\n",
              "    .colab-df-container {\n",
              "      display:flex;\n",
              "      flex-wrap:wrap;\n",
              "      gap: 12px;\n",
              "    }\n",
              "\n",
              "    .colab-df-convert {\n",
              "      background-color: #E8F0FE;\n",
              "      border: none;\n",
              "      border-radius: 50%;\n",
              "      cursor: pointer;\n",
              "      display: none;\n",
              "      fill: #1967D2;\n",
              "      height: 32px;\n",
              "      padding: 0 0 0 0;\n",
              "      width: 32px;\n",
              "    }\n",
              "\n",
              "    .colab-df-convert:hover {\n",
              "      background-color: #E2EBFA;\n",
              "      box-shadow: 0px 1px 2px rgba(60, 64, 67, 0.3), 0px 1px 3px 1px rgba(60, 64, 67, 0.15);\n",
              "      fill: #174EA6;\n",
              "    }\n",
              "\n",
              "    [theme=dark] .colab-df-convert {\n",
              "      background-color: #3B4455;\n",
              "      fill: #D2E3FC;\n",
              "    }\n",
              "\n",
              "    [theme=dark] .colab-df-convert:hover {\n",
              "      background-color: #434B5C;\n",
              "      box-shadow: 0px 1px 3px 1px rgba(0, 0, 0, 0.15);\n",
              "      filter: drop-shadow(0px 1px 2px rgba(0, 0, 0, 0.3));\n",
              "      fill: #FFFFFF;\n",
              "    }\n",
              "  </style>\n",
              "\n",
              "      <script>\n",
              "        const buttonEl =\n",
              "          document.querySelector('#df-2258dadc-cec0-4d89-b06c-3f1432b2bfd7 button.colab-df-convert');\n",
              "        buttonEl.style.display =\n",
              "          google.colab.kernel.accessAllowed ? 'block' : 'none';\n",
              "\n",
              "        async function convertToInteractive(key) {\n",
              "          const element = document.querySelector('#df-2258dadc-cec0-4d89-b06c-3f1432b2bfd7');\n",
              "          const dataTable =\n",
              "            await google.colab.kernel.invokeFunction('convertToInteractive',\n",
              "                                                     [key], {});\n",
              "          if (!dataTable) return;\n",
              "\n",
              "          const docLinkHtml = 'Like what you see? Visit the ' +\n",
              "            '<a target=\"_blank\" href=https://colab.research.google.com/notebooks/data_table.ipynb>data table notebook</a>'\n",
              "            + ' to learn more about interactive tables.';\n",
              "          element.innerHTML = '';\n",
              "          dataTable['output_type'] = 'display_data';\n",
              "          await google.colab.output.renderOutput(dataTable, element);\n",
              "          const docLink = document.createElement('div');\n",
              "          docLink.innerHTML = docLinkHtml;\n",
              "          element.appendChild(docLink);\n",
              "        }\n",
              "      </script>\n",
              "    </div>\n",
              "  </div>\n",
              "  "
            ]
          },
          "metadata": {},
          "execution_count": 48
        }
      ]
    },
    {
      "cell_type": "code",
      "source": [],
      "metadata": {
        "id": "lFkYa58Uob-F"
      },
      "execution_count": null,
      "outputs": []
    },
    {
      "cell_type": "markdown",
      "source": [
        "#clean data\n"
      ],
      "metadata": {
        "id": "y-AltFvfHQPN"
      }
    },
    {
      "cell_type": "code",
      "source": [
        "data=pd.read_csv('/content/data_ml.csv')"
      ],
      "metadata": {
        "id": "bYcJrN7LHPgo"
      },
      "execution_count": 3,
      "outputs": []
    },
    {
      "cell_type": "code",
      "source": [
        "import re"
      ],
      "metadata": {
        "id": "lJqX6dbAj_Cy"
      },
      "execution_count": 4,
      "outputs": []
    },
    {
      "cell_type": "code",
      "source": [
        "data['Id']=data['Id'].str.replace(\"http://arxiv.org/abs/\",\"\")"
      ],
      "metadata": {
        "colab": {
          "base_uri": "https://localhost:8080/"
        },
        "id": "O49jHA09eao8",
        "outputId": "1938e9c2-66bf-4d7a-fdc8-86a2eb131096"
      },
      "execution_count": 5,
      "outputs": [
        {
          "output_type": "stream",
          "name": "stderr",
          "text": [
            "<ipython-input-5-ec4afe0104da>:1: FutureWarning: The default value of regex will change from True to False in a future version.\n",
            "  data['Id']=data['Id'].str.replace(\"http://arxiv.org/abs/\",\"\")\n"
          ]
        }
      ]
    },
    {
      "cell_type": "code",
      "source": [
        "data['Summary']=data['Summary'].str.replace(\"\\n\",\" \")\n",
        "data['Summary']=data['Summary'].str.replace(\"\\n\",\" \")\n",
        "data['Summary']=data['Summary'].str.replace(\"\\{.*?\\}|\\(.*?\\)|\\[.*?\\]|\\$.*?\\$\",\"\")\n",
        "data['Summary']=data['Summary'].str.replace(\"\\\\\",\"\")\n",
        "data['Title']=data['Title'].str.replace(\"\\$.*?\\$\",\"\")"
      ],
      "metadata": {
        "id": "sX8cFFM6hZHi",
        "colab": {
          "base_uri": "https://localhost:8080/"
        },
        "outputId": "db20c2a0-d7ba-4223-a495-e18bde26a099"
      },
      "execution_count": 6,
      "outputs": [
        {
          "output_type": "stream",
          "name": "stderr",
          "text": [
            "<ipython-input-6-94ffc7ebe310>:3: FutureWarning: The default value of regex will change from True to False in a future version.\n",
            "  data['Summary']=data['Summary'].str.replace(\"\\{.*?\\}|\\(.*?\\)|\\[.*?\\]|\\$.*?\\$\",\"\")\n",
            "<ipython-input-6-94ffc7ebe310>:4: FutureWarning: The default value of regex will change from True to False in a future version. In addition, single character regular expressions will *not* be treated as literal strings when regex=True.\n",
            "  data['Summary']=data['Summary'].str.replace(\"\\\\\",\"\")\n",
            "<ipython-input-6-94ffc7ebe310>:5: FutureWarning: The default value of regex will change from True to False in a future version.\n",
            "  data['Title']=data['Title'].str.replace(\"\\$.*?\\$\",\"\")\n"
          ]
        }
      ]
    },
    {
      "cell_type": "code",
      "source": [
        "data.head(10)"
      ],
      "metadata": {
        "id": "mwl7HWxnn2Iv",
        "colab": {
          "base_uri": "https://localhost:8080/",
          "height": 598
        },
        "outputId": "d0b04f90-3d0c-4fed-9200-e98fa3b9d78d"
      },
      "execution_count": 7,
      "outputs": [
        {
          "output_type": "execute_result",
          "data": {
            "text/plain": [
              "   Unnamed: 0                                              Title  \\\n",
              "0           0  Mapping Tropical Forest Cover and Deforestatio...   \n",
              "1           1  Exact Quantum Algorithms for Quantum Phase Rec...   \n",
              "2           2  Machine Learned Calabi--Yau Metrics and Curvature   \n",
              "3           3  InstructPix2Pix: Learning to Follow Image Edit...   \n",
              "4           4  ConStruct-VL: Data-Free Continual Structured V...   \n",
              "5           5  SE(3)-Equivariant Relational Rearrangement wit...   \n",
              "6           6  Assessing Neural Network Robustness via Advers...   \n",
              "7           7  Monitoring machine learning (ML)-based risk pr...   \n",
              "8           8  Cheeger Inequalities for Directed Graphs and H...   \n",
              "9           9  DeepSense 6G: A Large-Scale Real-World Multi-M...   \n",
              "\n",
              "                        Date            Id  \\\n",
              "0  2022-11-17 18:59:44+00:00  2211.09806v1   \n",
              "1  2022-11-17 18:59:20+00:00  2211.09803v1   \n",
              "2  2022-11-17 18:59:03+00:00  2211.09801v1   \n",
              "3  2022-11-17 18:58:43+00:00  2211.09800v1   \n",
              "4  2022-11-17 18:57:03+00:00  2211.09790v1   \n",
              "5  2022-11-17 18:55:42+00:00  2211.09786v1   \n",
              "6  2022-11-17 18:54:35+00:00  2211.09782v1   \n",
              "7  2022-11-17 18:54:34+00:00  2211.09781v1   \n",
              "8  2022-11-17 18:51:32+00:00  2211.09776v1   \n",
              "9  2022-11-17 18:47:50+00:00  2211.09769v1   \n",
              "\n",
              "                                             Summary  \\\n",
              "0  Monitoring changes in tree cover for rapid ass...   \n",
              "1  We explore the relationship between renormaliz...   \n",
              "2  Finding Ricci-flat  metrics is a long standing...   \n",
              "3  We propose a method for editing images from hu...   \n",
              "4  Recently, large-scale pre-trained Vision-and-L...   \n",
              "5  We present a method for performing tasks invol...   \n",
              "6  The ability to assess the robustness of image ...   \n",
              "7  Monitoring the performance of machine learning...   \n",
              "8  We derive Cheeger inequalities for directed gr...   \n",
              "9  This article presents the DeepSense 6G dataset...   \n",
              "\n",
              "                                 URL  \n",
              "0  http://arxiv.org/pdf/2211.09806v1  \n",
              "1  http://arxiv.org/pdf/2211.09803v1  \n",
              "2  http://arxiv.org/pdf/2211.09801v1  \n",
              "3  http://arxiv.org/pdf/2211.09800v1  \n",
              "4  http://arxiv.org/pdf/2211.09790v1  \n",
              "5  http://arxiv.org/pdf/2211.09786v1  \n",
              "6  http://arxiv.org/pdf/2211.09782v1  \n",
              "7  http://arxiv.org/pdf/2211.09781v1  \n",
              "8  http://arxiv.org/pdf/2211.09776v1  \n",
              "9  http://arxiv.org/pdf/2211.09769v1  "
            ],
            "text/html": [
              "\n",
              "  <div id=\"df-5225ac92-eb85-4cbd-a140-4fd6e0daffef\">\n",
              "    <div class=\"colab-df-container\">\n",
              "      <div>\n",
              "<style scoped>\n",
              "    .dataframe tbody tr th:only-of-type {\n",
              "        vertical-align: middle;\n",
              "    }\n",
              "\n",
              "    .dataframe tbody tr th {\n",
              "        vertical-align: top;\n",
              "    }\n",
              "\n",
              "    .dataframe thead th {\n",
              "        text-align: right;\n",
              "    }\n",
              "</style>\n",
              "<table border=\"1\" class=\"dataframe\">\n",
              "  <thead>\n",
              "    <tr style=\"text-align: right;\">\n",
              "      <th></th>\n",
              "      <th>Unnamed: 0</th>\n",
              "      <th>Title</th>\n",
              "      <th>Date</th>\n",
              "      <th>Id</th>\n",
              "      <th>Summary</th>\n",
              "      <th>URL</th>\n",
              "    </tr>\n",
              "  </thead>\n",
              "  <tbody>\n",
              "    <tr>\n",
              "      <th>0</th>\n",
              "      <td>0</td>\n",
              "      <td>Mapping Tropical Forest Cover and Deforestatio...</td>\n",
              "      <td>2022-11-17 18:59:44+00:00</td>\n",
              "      <td>2211.09806v1</td>\n",
              "      <td>Monitoring changes in tree cover for rapid ass...</td>\n",
              "      <td>http://arxiv.org/pdf/2211.09806v1</td>\n",
              "    </tr>\n",
              "    <tr>\n",
              "      <th>1</th>\n",
              "      <td>1</td>\n",
              "      <td>Exact Quantum Algorithms for Quantum Phase Rec...</td>\n",
              "      <td>2022-11-17 18:59:20+00:00</td>\n",
              "      <td>2211.09803v1</td>\n",
              "      <td>We explore the relationship between renormaliz...</td>\n",
              "      <td>http://arxiv.org/pdf/2211.09803v1</td>\n",
              "    </tr>\n",
              "    <tr>\n",
              "      <th>2</th>\n",
              "      <td>2</td>\n",
              "      <td>Machine Learned Calabi--Yau Metrics and Curvature</td>\n",
              "      <td>2022-11-17 18:59:03+00:00</td>\n",
              "      <td>2211.09801v1</td>\n",
              "      <td>Finding Ricci-flat  metrics is a long standing...</td>\n",
              "      <td>http://arxiv.org/pdf/2211.09801v1</td>\n",
              "    </tr>\n",
              "    <tr>\n",
              "      <th>3</th>\n",
              "      <td>3</td>\n",
              "      <td>InstructPix2Pix: Learning to Follow Image Edit...</td>\n",
              "      <td>2022-11-17 18:58:43+00:00</td>\n",
              "      <td>2211.09800v1</td>\n",
              "      <td>We propose a method for editing images from hu...</td>\n",
              "      <td>http://arxiv.org/pdf/2211.09800v1</td>\n",
              "    </tr>\n",
              "    <tr>\n",
              "      <th>4</th>\n",
              "      <td>4</td>\n",
              "      <td>ConStruct-VL: Data-Free Continual Structured V...</td>\n",
              "      <td>2022-11-17 18:57:03+00:00</td>\n",
              "      <td>2211.09790v1</td>\n",
              "      <td>Recently, large-scale pre-trained Vision-and-L...</td>\n",
              "      <td>http://arxiv.org/pdf/2211.09790v1</td>\n",
              "    </tr>\n",
              "    <tr>\n",
              "      <th>5</th>\n",
              "      <td>5</td>\n",
              "      <td>SE(3)-Equivariant Relational Rearrangement wit...</td>\n",
              "      <td>2022-11-17 18:55:42+00:00</td>\n",
              "      <td>2211.09786v1</td>\n",
              "      <td>We present a method for performing tasks invol...</td>\n",
              "      <td>http://arxiv.org/pdf/2211.09786v1</td>\n",
              "    </tr>\n",
              "    <tr>\n",
              "      <th>6</th>\n",
              "      <td>6</td>\n",
              "      <td>Assessing Neural Network Robustness via Advers...</td>\n",
              "      <td>2022-11-17 18:54:35+00:00</td>\n",
              "      <td>2211.09782v1</td>\n",
              "      <td>The ability to assess the robustness of image ...</td>\n",
              "      <td>http://arxiv.org/pdf/2211.09782v1</td>\n",
              "    </tr>\n",
              "    <tr>\n",
              "      <th>7</th>\n",
              "      <td>7</td>\n",
              "      <td>Monitoring machine learning (ML)-based risk pr...</td>\n",
              "      <td>2022-11-17 18:54:34+00:00</td>\n",
              "      <td>2211.09781v1</td>\n",
              "      <td>Monitoring the performance of machine learning...</td>\n",
              "      <td>http://arxiv.org/pdf/2211.09781v1</td>\n",
              "    </tr>\n",
              "    <tr>\n",
              "      <th>8</th>\n",
              "      <td>8</td>\n",
              "      <td>Cheeger Inequalities for Directed Graphs and H...</td>\n",
              "      <td>2022-11-17 18:51:32+00:00</td>\n",
              "      <td>2211.09776v1</td>\n",
              "      <td>We derive Cheeger inequalities for directed gr...</td>\n",
              "      <td>http://arxiv.org/pdf/2211.09776v1</td>\n",
              "    </tr>\n",
              "    <tr>\n",
              "      <th>9</th>\n",
              "      <td>9</td>\n",
              "      <td>DeepSense 6G: A Large-Scale Real-World Multi-M...</td>\n",
              "      <td>2022-11-17 18:47:50+00:00</td>\n",
              "      <td>2211.09769v1</td>\n",
              "      <td>This article presents the DeepSense 6G dataset...</td>\n",
              "      <td>http://arxiv.org/pdf/2211.09769v1</td>\n",
              "    </tr>\n",
              "  </tbody>\n",
              "</table>\n",
              "</div>\n",
              "      <button class=\"colab-df-convert\" onclick=\"convertToInteractive('df-5225ac92-eb85-4cbd-a140-4fd6e0daffef')\"\n",
              "              title=\"Convert this dataframe to an interactive table.\"\n",
              "              style=\"display:none;\">\n",
              "        \n",
              "  <svg xmlns=\"http://www.w3.org/2000/svg\" height=\"24px\"viewBox=\"0 0 24 24\"\n",
              "       width=\"24px\">\n",
              "    <path d=\"M0 0h24v24H0V0z\" fill=\"none\"/>\n",
              "    <path d=\"M18.56 5.44l.94 2.06.94-2.06 2.06-.94-2.06-.94-.94-2.06-.94 2.06-2.06.94zm-11 1L8.5 8.5l.94-2.06 2.06-.94-2.06-.94L8.5 2.5l-.94 2.06-2.06.94zm10 10l.94 2.06.94-2.06 2.06-.94-2.06-.94-.94-2.06-.94 2.06-2.06.94z\"/><path d=\"M17.41 7.96l-1.37-1.37c-.4-.4-.92-.59-1.43-.59-.52 0-1.04.2-1.43.59L10.3 9.45l-7.72 7.72c-.78.78-.78 2.05 0 2.83L4 21.41c.39.39.9.59 1.41.59.51 0 1.02-.2 1.41-.59l7.78-7.78 2.81-2.81c.8-.78.8-2.07 0-2.86zM5.41 20L4 18.59l7.72-7.72 1.47 1.35L5.41 20z\"/>\n",
              "  </svg>\n",
              "      </button>\n",
              "      \n",
              "  <style>\n",
              "    .colab-df-container {\n",
              "      display:flex;\n",
              "      flex-wrap:wrap;\n",
              "      gap: 12px;\n",
              "    }\n",
              "\n",
              "    .colab-df-convert {\n",
              "      background-color: #E8F0FE;\n",
              "      border: none;\n",
              "      border-radius: 50%;\n",
              "      cursor: pointer;\n",
              "      display: none;\n",
              "      fill: #1967D2;\n",
              "      height: 32px;\n",
              "      padding: 0 0 0 0;\n",
              "      width: 32px;\n",
              "    }\n",
              "\n",
              "    .colab-df-convert:hover {\n",
              "      background-color: #E2EBFA;\n",
              "      box-shadow: 0px 1px 2px rgba(60, 64, 67, 0.3), 0px 1px 3px 1px rgba(60, 64, 67, 0.15);\n",
              "      fill: #174EA6;\n",
              "    }\n",
              "\n",
              "    [theme=dark] .colab-df-convert {\n",
              "      background-color: #3B4455;\n",
              "      fill: #D2E3FC;\n",
              "    }\n",
              "\n",
              "    [theme=dark] .colab-df-convert:hover {\n",
              "      background-color: #434B5C;\n",
              "      box-shadow: 0px 1px 3px 1px rgba(0, 0, 0, 0.15);\n",
              "      filter: drop-shadow(0px 1px 2px rgba(0, 0, 0, 0.3));\n",
              "      fill: #FFFFFF;\n",
              "    }\n",
              "  </style>\n",
              "\n",
              "      <script>\n",
              "        const buttonEl =\n",
              "          document.querySelector('#df-5225ac92-eb85-4cbd-a140-4fd6e0daffef button.colab-df-convert');\n",
              "        buttonEl.style.display =\n",
              "          google.colab.kernel.accessAllowed ? 'block' : 'none';\n",
              "\n",
              "        async function convertToInteractive(key) {\n",
              "          const element = document.querySelector('#df-5225ac92-eb85-4cbd-a140-4fd6e0daffef');\n",
              "          const dataTable =\n",
              "            await google.colab.kernel.invokeFunction('convertToInteractive',\n",
              "                                                     [key], {});\n",
              "          if (!dataTable) return;\n",
              "\n",
              "          const docLinkHtml = 'Like what you see? Visit the ' +\n",
              "            '<a target=\"_blank\" href=https://colab.research.google.com/notebooks/data_table.ipynb>data table notebook</a>'\n",
              "            + ' to learn more about interactive tables.';\n",
              "          element.innerHTML = '';\n",
              "          dataTable['output_type'] = 'display_data';\n",
              "          await google.colab.output.renderOutput(dataTable, element);\n",
              "          const docLink = document.createElement('div');\n",
              "          docLink.innerHTML = docLinkHtml;\n",
              "          element.appendChild(docLink);\n",
              "        }\n",
              "      </script>\n",
              "    </div>\n",
              "  </div>\n",
              "  "
            ]
          },
          "metadata": {},
          "execution_count": 7
        }
      ]
    },
    {
      "cell_type": "code",
      "source": [
        "data['Date'] = pd.to_datetime(data.Date, format='%Y-%m-%d %H:%M:%S')\n",
        "data['Date'] = pd.to_datetime(data.Date, format='%Y-%m-%d')\n",
        "data['Date'] = data['Date'].dt.strftime('%Y-%m-%d')"
      ],
      "metadata": {
        "id": "L_BnlPEsJJsq"
      },
      "execution_count": 9,
      "outputs": []
    },
    {
      "cell_type": "code",
      "source": [
        "data[7898:7900]"
      ],
      "metadata": {
        "colab": {
          "base_uri": "https://localhost:8080/",
          "height": 112
        },
        "id": "XSPd8iTNcqaz",
        "outputId": "b07e4f31-26a4-40e2-ff35-e6cc0995e430"
      },
      "execution_count": 11,
      "outputs": [
        {
          "output_type": "execute_result",
          "data": {
            "text/plain": [
              "      Unnamed: 0                                              Title  \\\n",
              "7898        7898    An Explainer for Temporal Graph Neural Networks   \n",
              "7899        7899  Rethinking Efficiency and Redundancy in Traini...   \n",
              "\n",
              "            Date            Id  \\\n",
              "7898  2022-09-02  2209.00807v1   \n",
              "7899  2022-09-02  2209.00800v1   \n",
              "\n",
              "                                                Summary  \\\n",
              "7898  Temporal graph neural networks  have been wide...   \n",
              "7899  Large-scale graphs are ubiquitous in real-worl...   \n",
              "\n",
              "                                    URL  \n",
              "7898  http://arxiv.org/pdf/2209.00807v1  \n",
              "7899  http://arxiv.org/pdf/2209.00800v1  "
            ],
            "text/html": [
              "\n",
              "  <div id=\"df-7c29c14e-78bb-464f-8e9a-e45f9d4c894c\">\n",
              "    <div class=\"colab-df-container\">\n",
              "      <div>\n",
              "<style scoped>\n",
              "    .dataframe tbody tr th:only-of-type {\n",
              "        vertical-align: middle;\n",
              "    }\n",
              "\n",
              "    .dataframe tbody tr th {\n",
              "        vertical-align: top;\n",
              "    }\n",
              "\n",
              "    .dataframe thead th {\n",
              "        text-align: right;\n",
              "    }\n",
              "</style>\n",
              "<table border=\"1\" class=\"dataframe\">\n",
              "  <thead>\n",
              "    <tr style=\"text-align: right;\">\n",
              "      <th></th>\n",
              "      <th>Unnamed: 0</th>\n",
              "      <th>Title</th>\n",
              "      <th>Date</th>\n",
              "      <th>Id</th>\n",
              "      <th>Summary</th>\n",
              "      <th>URL</th>\n",
              "    </tr>\n",
              "  </thead>\n",
              "  <tbody>\n",
              "    <tr>\n",
              "      <th>7898</th>\n",
              "      <td>7898</td>\n",
              "      <td>An Explainer for Temporal Graph Neural Networks</td>\n",
              "      <td>2022-09-02</td>\n",
              "      <td>2209.00807v1</td>\n",
              "      <td>Temporal graph neural networks  have been wide...</td>\n",
              "      <td>http://arxiv.org/pdf/2209.00807v1</td>\n",
              "    </tr>\n",
              "    <tr>\n",
              "      <th>7899</th>\n",
              "      <td>7899</td>\n",
              "      <td>Rethinking Efficiency and Redundancy in Traini...</td>\n",
              "      <td>2022-09-02</td>\n",
              "      <td>2209.00800v1</td>\n",
              "      <td>Large-scale graphs are ubiquitous in real-worl...</td>\n",
              "      <td>http://arxiv.org/pdf/2209.00800v1</td>\n",
              "    </tr>\n",
              "  </tbody>\n",
              "</table>\n",
              "</div>\n",
              "      <button class=\"colab-df-convert\" onclick=\"convertToInteractive('df-7c29c14e-78bb-464f-8e9a-e45f9d4c894c')\"\n",
              "              title=\"Convert this dataframe to an interactive table.\"\n",
              "              style=\"display:none;\">\n",
              "        \n",
              "  <svg xmlns=\"http://www.w3.org/2000/svg\" height=\"24px\"viewBox=\"0 0 24 24\"\n",
              "       width=\"24px\">\n",
              "    <path d=\"M0 0h24v24H0V0z\" fill=\"none\"/>\n",
              "    <path d=\"M18.56 5.44l.94 2.06.94-2.06 2.06-.94-2.06-.94-.94-2.06-.94 2.06-2.06.94zm-11 1L8.5 8.5l.94-2.06 2.06-.94-2.06-.94L8.5 2.5l-.94 2.06-2.06.94zm10 10l.94 2.06.94-2.06 2.06-.94-2.06-.94-.94-2.06-.94 2.06-2.06.94z\"/><path d=\"M17.41 7.96l-1.37-1.37c-.4-.4-.92-.59-1.43-.59-.52 0-1.04.2-1.43.59L10.3 9.45l-7.72 7.72c-.78.78-.78 2.05 0 2.83L4 21.41c.39.39.9.59 1.41.59.51 0 1.02-.2 1.41-.59l7.78-7.78 2.81-2.81c.8-.78.8-2.07 0-2.86zM5.41 20L4 18.59l7.72-7.72 1.47 1.35L5.41 20z\"/>\n",
              "  </svg>\n",
              "      </button>\n",
              "      \n",
              "  <style>\n",
              "    .colab-df-container {\n",
              "      display:flex;\n",
              "      flex-wrap:wrap;\n",
              "      gap: 12px;\n",
              "    }\n",
              "\n",
              "    .colab-df-convert {\n",
              "      background-color: #E8F0FE;\n",
              "      border: none;\n",
              "      border-radius: 50%;\n",
              "      cursor: pointer;\n",
              "      display: none;\n",
              "      fill: #1967D2;\n",
              "      height: 32px;\n",
              "      padding: 0 0 0 0;\n",
              "      width: 32px;\n",
              "    }\n",
              "\n",
              "    .colab-df-convert:hover {\n",
              "      background-color: #E2EBFA;\n",
              "      box-shadow: 0px 1px 2px rgba(60, 64, 67, 0.3), 0px 1px 3px 1px rgba(60, 64, 67, 0.15);\n",
              "      fill: #174EA6;\n",
              "    }\n",
              "\n",
              "    [theme=dark] .colab-df-convert {\n",
              "      background-color: #3B4455;\n",
              "      fill: #D2E3FC;\n",
              "    }\n",
              "\n",
              "    [theme=dark] .colab-df-convert:hover {\n",
              "      background-color: #434B5C;\n",
              "      box-shadow: 0px 1px 3px 1px rgba(0, 0, 0, 0.15);\n",
              "      filter: drop-shadow(0px 1px 2px rgba(0, 0, 0, 0.3));\n",
              "      fill: #FFFFFF;\n",
              "    }\n",
              "  </style>\n",
              "\n",
              "      <script>\n",
              "        const buttonEl =\n",
              "          document.querySelector('#df-7c29c14e-78bb-464f-8e9a-e45f9d4c894c button.colab-df-convert');\n",
              "        buttonEl.style.display =\n",
              "          google.colab.kernel.accessAllowed ? 'block' : 'none';\n",
              "\n",
              "        async function convertToInteractive(key) {\n",
              "          const element = document.querySelector('#df-7c29c14e-78bb-464f-8e9a-e45f9d4c894c');\n",
              "          const dataTable =\n",
              "            await google.colab.kernel.invokeFunction('convertToInteractive',\n",
              "                                                     [key], {});\n",
              "          if (!dataTable) return;\n",
              "\n",
              "          const docLinkHtml = 'Like what you see? Visit the ' +\n",
              "            '<a target=\"_blank\" href=https://colab.research.google.com/notebooks/data_table.ipynb>data table notebook</a>'\n",
              "            + ' to learn more about interactive tables.';\n",
              "          element.innerHTML = '';\n",
              "          dataTable['output_type'] = 'display_data';\n",
              "          await google.colab.output.renderOutput(dataTable, element);\n",
              "          const docLink = document.createElement('div');\n",
              "          docLink.innerHTML = docLinkHtml;\n",
              "          element.appendChild(docLink);\n",
              "        }\n",
              "      </script>\n",
              "    </div>\n",
              "  </div>\n",
              "  "
            ]
          },
          "metadata": {},
          "execution_count": 11
        }
      ]
    },
    {
      "cell_type": "code",
      "source": [
        "test=data.Summary.loc[7898]\n",
        "test"
      ],
      "metadata": {
        "colab": {
          "base_uri": "https://localhost:8080/",
          "height": 109
        },
        "id": "W-Iic5-5T3XF",
        "outputId": "e9c52f42-fded-42ba-ad96-bd20877269f7"
      },
      "execution_count": 12,
      "outputs": [
        {
          "output_type": "execute_result",
          "data": {
            "text/plain": [
              "'Temporal graph neural networks  have been widely used for modeling time-evolving graph-related tasks due to their ability to capture both graph topology dependency and non-linear temporal dynamic. The explanation of TGNNs is of vital importance for a transparent and trustworthy model. However, the complex topology structure and temporal dependency make explaining TGNN models very challenging. In this paper, we propose a novel explainer framework for TGNN models. Given a time series on a graph to be explained, the framework can identify dominant explanations in the form of a probabilistic graphical model in a time period. Case studies on the transportation domain demonstrate that the proposed approach can discover dynamic dependency structures in a road network for a time period.'"
            ],
            "application/vnd.google.colaboratory.intrinsic+json": {
              "type": "string"
            }
          },
          "metadata": {},
          "execution_count": 12
        }
      ]
    }
  ]
}