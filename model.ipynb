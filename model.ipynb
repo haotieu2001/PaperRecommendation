{
 "cells": [
  {
   "cell_type": "code",
   "execution_count": 1,
   "id": "6d71c0c5-98b1-4518-82e2-41e54e5573fb",
   "metadata": {},
   "outputs": [],
   "source": [
    "!pip install gensim -qq"
   ]
  },
  {
   "cell_type": "code",
   "execution_count": 2,
   "id": "acc7058d-6426-4d3a-a9d8-5a191cc901b7",
   "metadata": {},
   "outputs": [],
   "source": [
    "!pip install rich -qq"
   ]
  },
  {
   "cell_type": "code",
   "execution_count": 3,
   "id": "df1dd481-eb08-4d4a-907c-2568a6a947ec",
   "metadata": {},
   "outputs": [],
   "source": [
    "!pip install -U sentence-transformers -qq"
   ]
  },
  {
   "cell_type": "code",
   "execution_count": 4,
   "id": "9f5acf84-c70a-4e58-b5c4-d7520512a9c7",
   "metadata": {},
   "outputs": [],
   "source": [
    "from nltk.tokenize import RegexpTokenizer\n",
    "from nltk.stem import PorterStemmer\n",
    "from nltk.stem import WordNetLemmatizer\n",
    "from nltk.corpus import stopwords\n",
    "from sklearn.feature_extraction.text import CountVectorizer\n",
    "from sklearn.feature_extraction.text import TfidfVectorizer\n",
    "from sklearn.metrics.pairwise import cosine_similarity\n",
    "from sklearn.neighbors import NearestNeighbors\n",
    "from rich import inspect\n",
    "import torch \n",
    "import re\n",
    "\n",
    "import pandas as pd\n",
    "import nltk\n",
    "import pickle\n",
    "import numpy as np"
   ]
  },
  {
   "cell_type": "code",
   "execution_count": 5,
   "id": "d0411d6f-f0ae-44a5-900e-5661a1bbc6c4",
   "metadata": {},
   "outputs": [
    {
     "name": "stderr",
     "output_type": "stream",
     "text": [
      "[nltk_data] Downloading package punkt to /root/nltk_data...\n",
      "[nltk_data]   Unzipping tokenizers/punkt.zip.\n",
      "[nltk_data] Downloading package wordnet to /root/nltk_data...\n",
      "[nltk_data] Downloading package omw-1.4 to /root/nltk_data...\n",
      "[nltk_data] Downloading package stopwords to /root/nltk_data...\n",
      "[nltk_data]   Unzipping corpora/stopwords.zip.\n"
     ]
    },
    {
     "data": {
      "text/plain": [
       "True"
      ]
     },
     "execution_count": 5,
     "metadata": {},
     "output_type": "execute_result"
    }
   ],
   "source": [
    "nltk.download('punkt')\n",
    "nltk.download('wordnet')\n",
    "nltk.download('omw-1.4')\n",
    "nltk.download('stopwords')"
   ]
  },
  {
   "cell_type": "code",
   "execution_count": 6,
   "id": "d14d4f4f-ec80-44b9-b1d0-58cfc2721cac",
   "metadata": {},
   "outputs": [
    {
     "name": "stderr",
     "output_type": "stream",
     "text": [
      "/tmp/ipykernel_99/3285020223.py:3: FutureWarning: The default value of regex will change from True to False in a future version.\n",
      "  data['Id']=data['Id'].str.replace(\"http://arxiv.org/abs/\",\"\")\n",
      "/tmp/ipykernel_99/3285020223.py:4: FutureWarning: The default value of regex will change from True to False in a future version.\n",
      "  data['Summary']=data['Summary'].str.replace(\"\\$.*?\\$\",\" \")\n",
      "/tmp/ipykernel_99/3285020223.py:5: FutureWarning: The default value of regex will change from True to False in a future version.\n",
      "  data['Title']=data['Title'].str.replace(\"\\$.*?\\$\",\" \")\n"
     ]
    },
    {
     "data": {
      "text/html": [
       "<div>\n",
       "<style scoped>\n",
       "    .dataframe tbody tr th:only-of-type {\n",
       "        vertical-align: middle;\n",
       "    }\n",
       "\n",
       "    .dataframe tbody tr th {\n",
       "        vertical-align: top;\n",
       "    }\n",
       "\n",
       "    .dataframe thead th {\n",
       "        text-align: right;\n",
       "    }\n",
       "</style>\n",
       "<table border=\"1\" class=\"dataframe\">\n",
       "  <thead>\n",
       "    <tr style=\"text-align: right;\">\n",
       "      <th></th>\n",
       "      <th>Title</th>\n",
       "      <th>Date</th>\n",
       "      <th>Id</th>\n",
       "      <th>Summary</th>\n",
       "      <th>URL</th>\n",
       "    </tr>\n",
       "  </thead>\n",
       "  <tbody>\n",
       "    <tr>\n",
       "      <th>0</th>\n",
       "      <td>Mapping Tropical Forest Cover and Deforestatio...</td>\n",
       "      <td>2022-11-17 18:59:44+00:00</td>\n",
       "      <td>2211.09806v1</td>\n",
       "      <td>Monitoring changes in tree cover for rapid ass...</td>\n",
       "      <td>http://arxiv.org/pdf/2211.09806v1</td>\n",
       "    </tr>\n",
       "    <tr>\n",
       "      <th>1</th>\n",
       "      <td>Exact Quantum Algorithms for Quantum Phase Rec...</td>\n",
       "      <td>2022-11-17 18:59:20+00:00</td>\n",
       "      <td>2211.09803v1</td>\n",
       "      <td>We explore the relationship between renormaliz...</td>\n",
       "      <td>http://arxiv.org/pdf/2211.09803v1</td>\n",
       "    </tr>\n",
       "  </tbody>\n",
       "</table>\n",
       "</div>"
      ],
      "text/plain": [
       "                                               Title  \\\n",
       "0  Mapping Tropical Forest Cover and Deforestatio...   \n",
       "1  Exact Quantum Algorithms for Quantum Phase Rec...   \n",
       "\n",
       "                        Date            Id  \\\n",
       "0  2022-11-17 18:59:44+00:00  2211.09806v1   \n",
       "1  2022-11-17 18:59:20+00:00  2211.09803v1   \n",
       "\n",
       "                                             Summary  \\\n",
       "0  Monitoring changes in tree cover for rapid ass...   \n",
       "1  We explore the relationship between renormaliz...   \n",
       "\n",
       "                                 URL  \n",
       "0  http://arxiv.org/pdf/2211.09806v1  \n",
       "1  http://arxiv.org/pdf/2211.09803v1  "
      ]
     },
     "execution_count": 6,
     "metadata": {},
     "output_type": "execute_result"
    }
   ],
   "source": [
    "data = pd.read_csv(\"data_ml.csv\")\n",
    "data.drop(\"Unnamed: 0\",axis=1, inplace=True)\n",
    "data['Id']=data['Id'].str.replace(\"http://arxiv.org/abs/\",\"\")\n",
    "data['Summary']=data['Summary'].str.replace(\"\\$.*?\\$\",\" \")\n",
    "data['Title']=data['Title'].str.replace(\"\\$.*?\\$\",\" \")\n",
    "data.to_csv(\"cleaned_data\")\n",
    "data.head(2)"
   ]
  },
  {
   "cell_type": "markdown",
   "id": "a70aaace-bfa1-492d-b8a5-05e406cfbe24",
   "metadata": {},
   "source": [
    "## TF-IDF and Cosine Similariity"
   ]
  },
  {
   "cell_type": "code",
   "execution_count": 7,
   "id": "0ed1664d-fe42-4af4-98a5-b668d009078b",
   "metadata": {},
   "outputs": [],
   "source": [
    "df = data[[\"Id\",\"Summary\", \"Title\"]]\n",
    "df_train = df[:9990]\n",
    "df_test = df[9990:]\n",
    "# print(df.shape)"
   ]
  },
  {
   "cell_type": "code",
   "execution_count": 8,
   "id": "274166f1-6541-42cf-828d-6842ae677655",
   "metadata": {},
   "outputs": [],
   "source": [
    "# Making vectors\n",
    "tfidfvectorizer = TfidfVectorizer(ngram_range=(1,1))\n",
    "tfidfmatrix = tfidfvectorizer.fit_transform(df_train.Summary)"
   ]
  },
  {
   "cell_type": "code",
   "execution_count": 9,
   "id": "983a9d6c-074a-44fb-b62a-76e02928feec",
   "metadata": {},
   "outputs": [
    {
     "data": {
      "text/html": [
       "<div>\n",
       "<style scoped>\n",
       "    .dataframe tbody tr th:only-of-type {\n",
       "        vertical-align: middle;\n",
       "    }\n",
       "\n",
       "    .dataframe tbody tr th {\n",
       "        vertical-align: top;\n",
       "    }\n",
       "\n",
       "    .dataframe thead th {\n",
       "        text-align: right;\n",
       "    }\n",
       "</style>\n",
       "<table border=\"1\" class=\"dataframe\">\n",
       "  <thead>\n",
       "    <tr style=\"text-align: right;\">\n",
       "      <th></th>\n",
       "      <th>0</th>\n",
       "      <th>1</th>\n",
       "      <th>2</th>\n",
       "      <th>3</th>\n",
       "      <th>4</th>\n",
       "      <th>5</th>\n",
       "      <th>6</th>\n",
       "      <th>7</th>\n",
       "      <th>8</th>\n",
       "      <th>9</th>\n",
       "      <th>...</th>\n",
       "      <th>33887</th>\n",
       "      <th>33888</th>\n",
       "      <th>33889</th>\n",
       "      <th>33890</th>\n",
       "      <th>33891</th>\n",
       "      <th>33892</th>\n",
       "      <th>33893</th>\n",
       "      <th>33894</th>\n",
       "      <th>33895</th>\n",
       "      <th>33896</th>\n",
       "    </tr>\n",
       "  </thead>\n",
       "  <tbody>\n",
       "    <tr>\n",
       "      <th>0</th>\n",
       "      <td>0.0</td>\n",
       "      <td>0.0</td>\n",
       "      <td>0.0</td>\n",
       "      <td>0.0</td>\n",
       "      <td>0.0</td>\n",
       "      <td>0.0</td>\n",
       "      <td>0.0</td>\n",
       "      <td>0.0</td>\n",
       "      <td>0.0</td>\n",
       "      <td>0.0</td>\n",
       "      <td>...</td>\n",
       "      <td>0.0</td>\n",
       "      <td>0.0</td>\n",
       "      <td>0.0</td>\n",
       "      <td>0.0</td>\n",
       "      <td>0.0</td>\n",
       "      <td>0.0</td>\n",
       "      <td>0.0</td>\n",
       "      <td>0.0</td>\n",
       "      <td>0.0</td>\n",
       "      <td>0.0</td>\n",
       "    </tr>\n",
       "    <tr>\n",
       "      <th>1</th>\n",
       "      <td>0.0</td>\n",
       "      <td>0.0</td>\n",
       "      <td>0.0</td>\n",
       "      <td>0.0</td>\n",
       "      <td>0.0</td>\n",
       "      <td>0.0</td>\n",
       "      <td>0.0</td>\n",
       "      <td>0.0</td>\n",
       "      <td>0.0</td>\n",
       "      <td>0.0</td>\n",
       "      <td>...</td>\n",
       "      <td>0.0</td>\n",
       "      <td>0.0</td>\n",
       "      <td>0.0</td>\n",
       "      <td>0.0</td>\n",
       "      <td>0.0</td>\n",
       "      <td>0.0</td>\n",
       "      <td>0.0</td>\n",
       "      <td>0.0</td>\n",
       "      <td>0.0</td>\n",
       "      <td>0.0</td>\n",
       "    </tr>\n",
       "    <tr>\n",
       "      <th>2</th>\n",
       "      <td>0.0</td>\n",
       "      <td>0.0</td>\n",
       "      <td>0.0</td>\n",
       "      <td>0.0</td>\n",
       "      <td>0.0</td>\n",
       "      <td>0.0</td>\n",
       "      <td>0.0</td>\n",
       "      <td>0.0</td>\n",
       "      <td>0.0</td>\n",
       "      <td>0.0</td>\n",
       "      <td>...</td>\n",
       "      <td>0.0</td>\n",
       "      <td>0.0</td>\n",
       "      <td>0.0</td>\n",
       "      <td>0.0</td>\n",
       "      <td>0.0</td>\n",
       "      <td>0.0</td>\n",
       "      <td>0.0</td>\n",
       "      <td>0.0</td>\n",
       "      <td>0.0</td>\n",
       "      <td>0.0</td>\n",
       "    </tr>\n",
       "    <tr>\n",
       "      <th>3</th>\n",
       "      <td>0.0</td>\n",
       "      <td>0.0</td>\n",
       "      <td>0.0</td>\n",
       "      <td>0.0</td>\n",
       "      <td>0.0</td>\n",
       "      <td>0.0</td>\n",
       "      <td>0.0</td>\n",
       "      <td>0.0</td>\n",
       "      <td>0.0</td>\n",
       "      <td>0.0</td>\n",
       "      <td>...</td>\n",
       "      <td>0.0</td>\n",
       "      <td>0.0</td>\n",
       "      <td>0.0</td>\n",
       "      <td>0.0</td>\n",
       "      <td>0.0</td>\n",
       "      <td>0.0</td>\n",
       "      <td>0.0</td>\n",
       "      <td>0.0</td>\n",
       "      <td>0.0</td>\n",
       "      <td>0.0</td>\n",
       "    </tr>\n",
       "    <tr>\n",
       "      <th>4</th>\n",
       "      <td>0.0</td>\n",
       "      <td>0.0</td>\n",
       "      <td>0.0</td>\n",
       "      <td>0.0</td>\n",
       "      <td>0.0</td>\n",
       "      <td>0.0</td>\n",
       "      <td>0.0</td>\n",
       "      <td>0.0</td>\n",
       "      <td>0.0</td>\n",
       "      <td>0.0</td>\n",
       "      <td>...</td>\n",
       "      <td>0.0</td>\n",
       "      <td>0.0</td>\n",
       "      <td>0.0</td>\n",
       "      <td>0.0</td>\n",
       "      <td>0.0</td>\n",
       "      <td>0.0</td>\n",
       "      <td>0.0</td>\n",
       "      <td>0.0</td>\n",
       "      <td>0.0</td>\n",
       "      <td>0.0</td>\n",
       "    </tr>\n",
       "  </tbody>\n",
       "</table>\n",
       "<p>5 rows × 33897 columns</p>\n",
       "</div>"
      ],
      "text/plain": [
       "   0      1      2      3      4      5      6      7      8      9      ...  \\\n",
       "0    0.0    0.0    0.0    0.0    0.0    0.0    0.0    0.0    0.0    0.0  ...   \n",
       "1    0.0    0.0    0.0    0.0    0.0    0.0    0.0    0.0    0.0    0.0  ...   \n",
       "2    0.0    0.0    0.0    0.0    0.0    0.0    0.0    0.0    0.0    0.0  ...   \n",
       "3    0.0    0.0    0.0    0.0    0.0    0.0    0.0    0.0    0.0    0.0  ...   \n",
       "4    0.0    0.0    0.0    0.0    0.0    0.0    0.0    0.0    0.0    0.0  ...   \n",
       "\n",
       "   33887  33888  33889  33890  33891  33892  33893  33894  33895  33896  \n",
       "0    0.0    0.0    0.0    0.0    0.0    0.0    0.0    0.0    0.0    0.0  \n",
       "1    0.0    0.0    0.0    0.0    0.0    0.0    0.0    0.0    0.0    0.0  \n",
       "2    0.0    0.0    0.0    0.0    0.0    0.0    0.0    0.0    0.0    0.0  \n",
       "3    0.0    0.0    0.0    0.0    0.0    0.0    0.0    0.0    0.0    0.0  \n",
       "4    0.0    0.0    0.0    0.0    0.0    0.0    0.0    0.0    0.0    0.0  \n",
       "\n",
       "[5 rows x 33897 columns]"
      ]
     },
     "execution_count": 9,
     "metadata": {},
     "output_type": "execute_result"
    }
   ],
   "source": [
    "data_frame = pd.DataFrame(tfidfmatrix.toarray())\n",
    "data_frame.head()"
   ]
  },
  {
   "cell_type": "code",
   "execution_count": 10,
   "id": "04c75416-5dd0-4b5c-b225-d3efc1c0e90d",
   "metadata": {},
   "outputs": [],
   "source": [
    "def consine_test(title):\n",
    "    cosine_sim = cosine_similarity(tfidfvectorizer.transform([title]).toarray()[0].reshape(1,-1), data_frame)[0]\n",
    "    tfidf_top10 = cosine_sim.argsort()[-10:]\n",
    "    title_list = [df_train.loc[i].Title for i in tfidf_top10 ]\n",
    "    url_list = [\"http://arxiv.org/abs/\"+ df_train.loc[i].Id for i in tfidf_top10 ]\n",
    "    summary_list = [df_train.loc[i].Summary for i in tfidf_top10]\n",
    "    tfidf_scores = [cosine_sim[i] for i in tfidf_top10]\n",
    "    return title_list, url_list, tfidf_scores\n",
    "\n",
    "recommendation_list = [consine_test(df_test.loc[i].Summary) for i in range(9990,10000)]"
   ]
  },
  {
   "cell_type": "code",
   "execution_count": 12,
   "id": "75ebd8ad-d748-49c9-9a0b-37eeaedbcbf1",
   "metadata": {},
   "outputs": [
    {
     "data": {
      "text/plain": [
       "(['Improving Policy Learning via Language Dynamics Distillation',\n",
       "  'Replacing Language Model for Style Transfer',\n",
       "  'FusionVAE: A Deep Hierarchical Variational Autoencoder for RGB Image Fusion',\n",
       "  'LAD: Language Augmented Diffusion for Reinforcement Learning',\n",
       "  'Probing for Incremental Parse States in Autoregressive Language Models',\n",
       "  'Same Pre-training Loss, Better Downstream: Implicit Bias Matters for Language Models',\n",
       "  'RobBERT-2022: Updating a Dutch Language Model to Account for Evolving Language Use',\n",
       "  'Understanding Domain Learning in Language Models Through Subpopulation Analysis',\n",
       "  'Progressive Fusion for Multimodal Integration',\n",
       "  'Relaxed Attention for Transformer Models'],\n",
       " ['http://arxiv.org/abs/2210.00066v1',\n",
       "  'http://arxiv.org/abs/2211.07343v1',\n",
       "  'http://arxiv.org/abs/2209.11277v1',\n",
       "  'http://arxiv.org/abs/2210.15629v1',\n",
       "  'http://arxiv.org/abs/2211.09748v1',\n",
       "  'http://arxiv.org/abs/2210.14199v1',\n",
       "  'http://arxiv.org/abs/2211.08192v1',\n",
       "  'http://arxiv.org/abs/2210.12553v1',\n",
       "  'http://arxiv.org/abs/2209.00302v1',\n",
       "  'http://arxiv.org/abs/2209.09735v1'],\n",
       " [0.22189463799035897,\n",
       "  0.22191429940209767,\n",
       "  0.2247341868730469,\n",
       "  0.22738354958604381,\n",
       "  0.2328855378555829,\n",
       "  0.23401971405762315,\n",
       "  0.23497849579701283,\n",
       "  0.2353695665474531,\n",
       "  0.2439192880234648,\n",
       "  0.25575769479277105])"
      ]
     },
     "execution_count": 12,
     "metadata": {},
     "output_type": "execute_result"
    }
   ],
   "source": [
    "recommendation_list[9]"
   ]
  },
  {
   "cell_type": "code",
   "execution_count": 26,
   "id": "96cb4ce1-1d07-471e-9f1d-fb5b3bab703f",
   "metadata": {},
   "outputs": [],
   "source": [
    "def final_test(recommendation_list):\n",
    "    title_test_100 = []\n",
    "    score_test_100 = []\n",
    "    recs_test_100 = []\n",
    "    for i in range(10):\n",
    "        title_test_100 += [df_test.loc[i + 9990].Title]*10\n",
    "        score_test_100 += recommendation_list[i][2]\n",
    "        recs_test_100 += recommendation_list[i][0]\n",
    "    d = {\"Title\":title_test_100, \"Recommendation\":recs_test_100,\"Cosine Similarity\":score_test_100}\n",
    "    final_result = pd.DataFrame(data=d)\n",
    "    return final_result"
   ]
  },
  {
   "cell_type": "code",
   "execution_count": 27,
   "id": "bb4de5b6-17c1-42d1-a597-6f5019d746d9",
   "metadata": {},
   "outputs": [
    {
     "data": {
      "text/html": [
       "<div>\n",
       "<style scoped>\n",
       "    .dataframe tbody tr th:only-of-type {\n",
       "        vertical-align: middle;\n",
       "    }\n",
       "\n",
       "    .dataframe tbody tr th {\n",
       "        vertical-align: top;\n",
       "    }\n",
       "\n",
       "    .dataframe thead th {\n",
       "        text-align: right;\n",
       "    }\n",
       "</style>\n",
       "<table border=\"1\" class=\"dataframe\">\n",
       "  <thead>\n",
       "    <tr style=\"text-align: right;\">\n",
       "      <th></th>\n",
       "      <th>Title</th>\n",
       "      <th>Recommendation</th>\n",
       "      <th>Cosine Similarity</th>\n",
       "    </tr>\n",
       "  </thead>\n",
       "  <tbody>\n",
       "    <tr>\n",
       "      <th>98</th>\n",
       "      <td>Fusing Sentence Embeddings Into LSTM-based Aut...</td>\n",
       "      <td>Progressive Fusion for Multimodal Integration</td>\n",
       "      <td>0.243919</td>\n",
       "    </tr>\n",
       "    <tr>\n",
       "      <th>99</th>\n",
       "      <td>Fusing Sentence Embeddings Into LSTM-based Aut...</td>\n",
       "      <td>Relaxed Attention for Transformer Models</td>\n",
       "      <td>0.255758</td>\n",
       "    </tr>\n",
       "  </tbody>\n",
       "</table>\n",
       "</div>"
      ],
      "text/plain": [
       "                                                Title  \\\n",
       "98  Fusing Sentence Embeddings Into LSTM-based Aut...   \n",
       "99  Fusing Sentence Embeddings Into LSTM-based Aut...   \n",
       "\n",
       "                                   Recommendation  Cosine Similarity  \n",
       "98  Progressive Fusion for Multimodal Integration           0.243919  \n",
       "99       Relaxed Attention for Transformer Models           0.255758  "
      ]
     },
     "execution_count": 27,
     "metadata": {},
     "output_type": "execute_result"
    }
   ],
   "source": [
    "tfidf_csv = final_test(recommendation_list)\n",
    "tfidf_csv.head()"
   ]
  },
  {
   "cell_type": "code",
   "execution_count": 29,
   "id": "c2afb51b-8f24-4deb-a84a-108ed82c7213",
   "metadata": {},
   "outputs": [],
   "source": [
    "tfidf_csv.to_csv(\"tfidf_final_test.csv\")"
   ]
  },
  {
   "cell_type": "markdown",
   "id": "9503cd36-8cbe-4bab-bd45-966e6a72c888",
   "metadata": {},
   "source": [
    "## KNN"
   ]
  },
  {
   "cell_type": "code",
   "execution_count": 13,
   "id": "0fb3ba8b-2b70-4ee1-addc-f7b32ec5a378",
   "metadata": {},
   "outputs": [],
   "source": [
    "neigh = NearestNeighbors(n_neighbors=10, metric=\"cosine\")"
   ]
  },
  {
   "cell_type": "code",
   "execution_count": 14,
   "id": "62300086-12c1-4819-88a1-005bc7e55249",
   "metadata": {},
   "outputs": [
    {
     "data": {
      "text/plain": [
       "<9990x33897 sparse matrix of type '<class 'numpy.int64'>'\n",
       "\twith 1103301 stored elements in Compressed Sparse Row format>"
      ]
     },
     "execution_count": 14,
     "metadata": {},
     "output_type": "execute_result"
    }
   ],
   "source": [
    "vectorizer = CountVectorizer()\n",
    "featurevectors = vectorizer.fit_transform ( df_train.Summary.tolist())\n",
    "featurevectors"
   ]
  },
  {
   "cell_type": "code",
   "execution_count": 15,
   "id": "294f29a4-d348-4951-822d-3b258a5c851f",
   "metadata": {},
   "outputs": [
    {
     "data": {
      "text/html": [
       "<style>#sk-container-id-1 {color: black;background-color: white;}#sk-container-id-1 pre{padding: 0;}#sk-container-id-1 div.sk-toggleable {background-color: white;}#sk-container-id-1 label.sk-toggleable__label {cursor: pointer;display: block;width: 100%;margin-bottom: 0;padding: 0.3em;box-sizing: border-box;text-align: center;}#sk-container-id-1 label.sk-toggleable__label-arrow:before {content: \"▸\";float: left;margin-right: 0.25em;color: #696969;}#sk-container-id-1 label.sk-toggleable__label-arrow:hover:before {color: black;}#sk-container-id-1 div.sk-estimator:hover label.sk-toggleable__label-arrow:before {color: black;}#sk-container-id-1 div.sk-toggleable__content {max-height: 0;max-width: 0;overflow: hidden;text-align: left;background-color: #f0f8ff;}#sk-container-id-1 div.sk-toggleable__content pre {margin: 0.2em;color: black;border-radius: 0.25em;background-color: #f0f8ff;}#sk-container-id-1 input.sk-toggleable__control:checked~div.sk-toggleable__content {max-height: 200px;max-width: 100%;overflow: auto;}#sk-container-id-1 input.sk-toggleable__control:checked~label.sk-toggleable__label-arrow:before {content: \"▾\";}#sk-container-id-1 div.sk-estimator input.sk-toggleable__control:checked~label.sk-toggleable__label {background-color: #d4ebff;}#sk-container-id-1 div.sk-label input.sk-toggleable__control:checked~label.sk-toggleable__label {background-color: #d4ebff;}#sk-container-id-1 input.sk-hidden--visually {border: 0;clip: rect(1px 1px 1px 1px);clip: rect(1px, 1px, 1px, 1px);height: 1px;margin: -1px;overflow: hidden;padding: 0;position: absolute;width: 1px;}#sk-container-id-1 div.sk-estimator {font-family: monospace;background-color: #f0f8ff;border: 1px dotted black;border-radius: 0.25em;box-sizing: border-box;margin-bottom: 0.5em;}#sk-container-id-1 div.sk-estimator:hover {background-color: #d4ebff;}#sk-container-id-1 div.sk-parallel-item::after {content: \"\";width: 100%;border-bottom: 1px solid gray;flex-grow: 1;}#sk-container-id-1 div.sk-label:hover label.sk-toggleable__label {background-color: #d4ebff;}#sk-container-id-1 div.sk-serial::before {content: \"\";position: absolute;border-left: 1px solid gray;box-sizing: border-box;top: 0;bottom: 0;left: 50%;z-index: 0;}#sk-container-id-1 div.sk-serial {display: flex;flex-direction: column;align-items: center;background-color: white;padding-right: 0.2em;padding-left: 0.2em;position: relative;}#sk-container-id-1 div.sk-item {position: relative;z-index: 1;}#sk-container-id-1 div.sk-parallel {display: flex;align-items: stretch;justify-content: center;background-color: white;position: relative;}#sk-container-id-1 div.sk-item::before, #sk-container-id-1 div.sk-parallel-item::before {content: \"\";position: absolute;border-left: 1px solid gray;box-sizing: border-box;top: 0;bottom: 0;left: 50%;z-index: -1;}#sk-container-id-1 div.sk-parallel-item {display: flex;flex-direction: column;z-index: 1;position: relative;background-color: white;}#sk-container-id-1 div.sk-parallel-item:first-child::after {align-self: flex-end;width: 50%;}#sk-container-id-1 div.sk-parallel-item:last-child::after {align-self: flex-start;width: 50%;}#sk-container-id-1 div.sk-parallel-item:only-child::after {width: 0;}#sk-container-id-1 div.sk-dashed-wrapped {border: 1px dashed gray;margin: 0 0.4em 0.5em 0.4em;box-sizing: border-box;padding-bottom: 0.4em;background-color: white;}#sk-container-id-1 div.sk-label label {font-family: monospace;font-weight: bold;display: inline-block;line-height: 1.2em;}#sk-container-id-1 div.sk-label-container {text-align: center;}#sk-container-id-1 div.sk-container {/* jupyter's `normalize.less` sets `[hidden] { display: none; }` but bootstrap.min.css set `[hidden] { display: none !important; }` so we also need the `!important` here to be able to override the default hidden behavior on the sphinx rendered scikit-learn.org. See: https://github.com/scikit-learn/scikit-learn/issues/21755 */display: inline-block !important;position: relative;}#sk-container-id-1 div.sk-text-repr-fallback {display: none;}</style><div id=\"sk-container-id-1\" class=\"sk-top-container\"><div class=\"sk-text-repr-fallback\"><pre>NearestNeighbors(metric=&#x27;cosine&#x27;, n_neighbors=10)</pre><b>In a Jupyter environment, please rerun this cell to show the HTML representation or trust the notebook. <br />On GitHub, the HTML representation is unable to render, please try loading this page with nbviewer.org.</b></div><div class=\"sk-container\" hidden><div class=\"sk-item\"><div class=\"sk-estimator sk-toggleable\"><input class=\"sk-toggleable__control sk-hidden--visually\" id=\"sk-estimator-id-1\" type=\"checkbox\" checked><label for=\"sk-estimator-id-1\" class=\"sk-toggleable__label sk-toggleable__label-arrow\">NearestNeighbors</label><div class=\"sk-toggleable__content\"><pre>NearestNeighbors(metric=&#x27;cosine&#x27;, n_neighbors=10)</pre></div></div></div></div></div>"
      ],
      "text/plain": [
       "NearestNeighbors(metric='cosine', n_neighbors=10)"
      ]
     },
     "execution_count": 15,
     "metadata": {},
     "output_type": "execute_result"
    }
   ],
   "source": [
    "neigh.fit ( featurevectors)"
   ]
  },
  {
   "cell_type": "code",
   "execution_count": 18,
   "id": "19e20c22-3c4c-4353-891f-a0abe4c6de4c",
   "metadata": {},
   "outputs": [],
   "source": [
    "def knn_recommendation(title, model):\n",
    "    text = vectorizer.transform([title]).toarray()\n",
    "    final_knn = model.kneighbors(text, return_distance=True)\n",
    "    final_knn_score = final_knn[0][0].tolist()\n",
    "    final_knn_index = final_knn[1][0].tolist()\n",
    "    title_list = [df.loc[i].Title for i in final_knn_index]\n",
    "    Url_list = [\"http://arxiv.org/abs/\"+df.loc[i].Id for i in final_knn_index]\n",
    "    return title_list, Url_list, final_knn_score"
   ]
  },
  {
   "cell_type": "code",
   "execution_count": 19,
   "id": "685005ae-3406-4e6f-9eca-2e8536878ca2",
   "metadata": {},
   "outputs": [],
   "source": [
    "knn_rec_list = [knn_recommendation(df.loc[i].Title,neigh) for i in range(9990,10000) ]"
   ]
  },
  {
   "cell_type": "code",
   "execution_count": 21,
   "id": "d0fcaa54-fafd-40ba-b9fd-eeb8505e4688",
   "metadata": {},
   "outputs": [
    {
     "data": {
      "text/plain": [
       "(['Bidirectional Language Models Are Also Few-shot Learners',\n",
       "  'Probing for Incremental Parse States in Autoregressive Language Models',\n",
       "  'Self-conditioned Embedding Diffusion for Text Generation',\n",
       "  'SSD-LM: Semi-autoregressive Simplex-based Diffusion Language Model for Text Generation and Modular Control',\n",
       "  'DiffusER: Discrete Diffusion via Edit-based Reconstruction',\n",
       "  \"Introducing Vision Transformer for Alzheimer's Disease classification task with 3D input\",\n",
       "  'DiffuSeq: Sequence to Sequence Text Generation with Diffusion Models',\n",
       "  'Non-Autoregressive Sign Language Production via Knowledge Distillation',\n",
       "  'RobBERT-2022: Updating a Dutch Language Model to Account for Evolving Language Use',\n",
       "  'PromptCast: A New Prompt-based Learning Paradigm for Time Series Forecasting'],\n",
       " ['http://arxiv.org/abs/2209.14500v1',\n",
       "  'http://arxiv.org/abs/2211.09748v1',\n",
       "  'http://arxiv.org/abs/2211.04236v1',\n",
       "  'http://arxiv.org/abs/2210.17432v1',\n",
       "  'http://arxiv.org/abs/2210.16886v1',\n",
       "  'http://arxiv.org/abs/2210.01177v1',\n",
       "  'http://arxiv.org/abs/2210.08933v2',\n",
       "  'http://arxiv.org/abs/2208.06183v1',\n",
       "  'http://arxiv.org/abs/2211.08192v1',\n",
       "  'http://arxiv.org/abs/2210.08964v2'],\n",
       " [0.7441990759546939,\n",
       "  0.7505149336054171,\n",
       "  0.7614578508892885,\n",
       "  0.7633176843984357,\n",
       "  0.769443832918306,\n",
       "  0.7800879472351754,\n",
       "  0.7804714800206194,\n",
       "  0.7893555038054771,\n",
       "  0.7954973561206962,\n",
       "  0.7985142181238087])"
      ]
     },
     "execution_count": 21,
     "metadata": {},
     "output_type": "execute_result"
    }
   ],
   "source": [
    "knn_rec_list[9]"
   ]
  },
  {
   "cell_type": "code",
   "execution_count": null,
   "id": "243b95cd-7841-42f9-85c8-c238604e3089",
   "metadata": {},
   "outputs": [
    {
     "data": {
      "text/html": [
       "<div>\n",
       "<style scoped>\n",
       "    .dataframe tbody tr th:only-of-type {\n",
       "        vertical-align: middle;\n",
       "    }\n",
       "\n",
       "    .dataframe tbody tr th {\n",
       "        vertical-align: top;\n",
       "    }\n",
       "\n",
       "    .dataframe thead th {\n",
       "        text-align: right;\n",
       "    }\n",
       "</style>\n",
       "<table border=\"1\" class=\"dataframe\">\n",
       "  <thead>\n",
       "    <tr style=\"text-align: right;\">\n",
       "      <th></th>\n",
       "      <th>Title</th>\n",
       "      <th>Recommendation</th>\n",
       "      <th>Cosine Similarity</th>\n",
       "    </tr>\n",
       "  </thead>\n",
       "  <tbody>\n",
       "    <tr>\n",
       "      <th>0</th>\n",
       "      <td>DL-DRL: A double-layer deep reinforcement lear...</td>\n",
       "      <td>When does deep learning fail and how to tackle...</td>\n",
       "      <td>0.673729</td>\n",
       "    </tr>\n",
       "    <tr>\n",
       "      <th>1</th>\n",
       "      <td>DL-DRL: A double-layer deep reinforcement lear...</td>\n",
       "      <td>Is Multi-Task Learning an Upper Bound for Cont...</td>\n",
       "      <td>0.681929</td>\n",
       "    </tr>\n",
       "  </tbody>\n",
       "</table>\n",
       "</div>"
      ],
      "text/plain": [
       "                                               Title  \\\n",
       "0  DL-DRL: A double-layer deep reinforcement lear...   \n",
       "1  DL-DRL: A double-layer deep reinforcement lear...   \n",
       "\n",
       "                                      Recommendation  Cosine Similarity  \n",
       "0  When does deep learning fail and how to tackle...           0.673729  \n",
       "1  Is Multi-Task Learning an Upper Bound for Cont...           0.681929  "
      ]
     },
     "execution_count": 151,
     "metadata": {},
     "output_type": "execute_result"
    }
   ],
   "source": [
    "knn_csv = final_test(recommendation_list=knn_rec_list)\n",
    "knn_csv.head(2)"
   ]
  },
  {
   "cell_type": "code",
   "execution_count": 162,
   "id": "e52fc694-e74a-4528-9f81-47de1ca51d6b",
   "metadata": {},
   "outputs": [],
   "source": [
    "knn_csv.to_csv(\"KNN_FINAL_TEST.csv\")"
   ]
  },
  {
   "cell_type": "markdown",
   "id": "ea5d24c2-9ce8-43b1-b5fa-4cbd6b19bdc5",
   "metadata": {},
   "source": [
    "## SentenceTransformer"
   ]
  },
  {
   "cell_type": "code",
   "execution_count": 22,
   "id": "f31c1b07-7240-4722-afee-9341f2b608c3",
   "metadata": {},
   "outputs": [],
   "source": [
    "from sentence_transformers import SentenceTransformer, util"
   ]
  },
  {
   "cell_type": "code",
   "execution_count": 23,
   "id": "07bf8194-00dd-4aca-8144-dc65e2a5fd03",
   "metadata": {},
   "outputs": [
    {
     "data": {
      "application/vnd.jupyter.widget-view+json": {
       "model_id": "3278312329b941ccbd63998b4474cdeb",
       "version_major": 2,
       "version_minor": 0
      },
      "text/plain": [
       "Downloading:   0%|          | 0.00/690 [00:00<?, ?B/s]"
      ]
     },
     "metadata": {},
     "output_type": "display_data"
    },
    {
     "data": {
      "application/vnd.jupyter.widget-view+json": {
       "model_id": "23c35335705148c3b2dec0efc71b9eb6",
       "version_major": 2,
       "version_minor": 0
      },
      "text/plain": [
       "Downloading:   0%|          | 0.00/190 [00:00<?, ?B/s]"
      ]
     },
     "metadata": {},
     "output_type": "display_data"
    },
    {
     "data": {
      "application/vnd.jupyter.widget-view+json": {
       "model_id": "bbd63695b14f454f82c22409273f4c99",
       "version_major": 2,
       "version_minor": 0
      },
      "text/plain": [
       "Downloading:   0%|          | 0.00/4.01k [00:00<?, ?B/s]"
      ]
     },
     "metadata": {},
     "output_type": "display_data"
    },
    {
     "data": {
      "application/vnd.jupyter.widget-view+json": {
       "model_id": "7ae5c71aaa054e06a9628b2709914e7e",
       "version_major": 2,
       "version_minor": 0
      },
      "text/plain": [
       "Downloading:   0%|          | 0.00/629 [00:00<?, ?B/s]"
      ]
     },
     "metadata": {},
     "output_type": "display_data"
    },
    {
     "data": {
      "application/vnd.jupyter.widget-view+json": {
       "model_id": "dfb7cb190ee249b6b23f08a593cc7587",
       "version_major": 2,
       "version_minor": 0
      },
      "text/plain": [
       "Downloading:   0%|          | 0.00/122 [00:00<?, ?B/s]"
      ]
     },
     "metadata": {},
     "output_type": "display_data"
    },
    {
     "data": {
      "application/vnd.jupyter.widget-view+json": {
       "model_id": "ab29735f951f445c9e0ac89a529f36e9",
       "version_major": 2,
       "version_minor": 0
      },
      "text/plain": [
       "Downloading:   0%|          | 0.00/69.6M [00:00<?, ?B/s]"
      ]
     },
     "metadata": {},
     "output_type": "display_data"
    },
    {
     "data": {
      "application/vnd.jupyter.widget-view+json": {
       "model_id": "a81401e5b3954d87b743b3f06612f40e",
       "version_major": 2,
       "version_minor": 0
      },
      "text/plain": [
       "Downloading:   0%|          | 0.00/53.0 [00:00<?, ?B/s]"
      ]
     },
     "metadata": {},
     "output_type": "display_data"
    },
    {
     "data": {
      "application/vnd.jupyter.widget-view+json": {
       "model_id": "4084752961fe4207ab292dd14655984d",
       "version_major": 2,
       "version_minor": 0
      },
      "text/plain": [
       "Downloading:   0%|          | 0.00/112 [00:00<?, ?B/s]"
      ]
     },
     "metadata": {},
     "output_type": "display_data"
    },
    {
     "data": {
      "application/vnd.jupyter.widget-view+json": {
       "model_id": "529ea458172d4a5386b23e3066e7963f",
       "version_major": 2,
       "version_minor": 0
      },
      "text/plain": [
       "Downloading:   0%|          | 0.00/466k [00:00<?, ?B/s]"
      ]
     },
     "metadata": {},
     "output_type": "display_data"
    },
    {
     "data": {
      "application/vnd.jupyter.widget-view+json": {
       "model_id": "daf35c3caae945ac817e84f40b157836",
       "version_major": 2,
       "version_minor": 0
      },
      "text/plain": [
       "Downloading:   0%|          | 0.00/314 [00:00<?, ?B/s]"
      ]
     },
     "metadata": {},
     "output_type": "display_data"
    },
    {
     "data": {
      "application/vnd.jupyter.widget-view+json": {
       "model_id": "aa3e5ae8f3514fc295ae6367b47b7915",
       "version_major": 2,
       "version_minor": 0
      },
      "text/plain": [
       "Downloading:   0%|          | 0.00/232k [00:00<?, ?B/s]"
      ]
     },
     "metadata": {},
     "output_type": "display_data"
    },
    {
     "data": {
      "application/vnd.jupyter.widget-view+json": {
       "model_id": "8a3ae7aa9ae54eb1b1fee00a9bcfe400",
       "version_major": 2,
       "version_minor": 0
      },
      "text/plain": [
       "Downloading:   0%|          | 0.00/229 [00:00<?, ?B/s]"
      ]
     },
     "metadata": {},
     "output_type": "display_data"
    }
   ],
   "source": [
    "model_ST = SentenceTransformer('paraphrase-MiniLM-L3-v2')\n",
    "sentences1 = df_train.Summary.tolist()\n",
    "sentences2 = df_test.Summary.tolist()"
   ]
  },
  {
   "cell_type": "code",
   "execution_count": 24,
   "id": "cc666238-942a-4769-ad18-3a55ff0c5798",
   "metadata": {},
   "outputs": [],
   "source": [
    "embeddings1 = model_ST.encode(sentences1, convert_to_tensor=True)\n",
    "embeddings2 = model_ST.encode(sentences2, convert_to_tensor=True)"
   ]
  },
  {
   "cell_type": "code",
   "execution_count": 25,
   "id": "aa7a75a8-0f66-4d35-ae83-d133b173ad4d",
   "metadata": {},
   "outputs": [
    {
     "data": {
      "text/plain": [
       "tensor([[0.1608, 0.2284, 0.2609,  ..., 0.3062, 0.1687, 0.1272],\n",
       "        [0.1808, 0.2275, 0.3163,  ..., 0.3334, 0.2178, 0.2478],\n",
       "        [0.1368, 0.2660, 0.1318,  ..., 0.1259, 0.1986, 0.1337],\n",
       "        ...,\n",
       "        [0.2703, 0.4043, 0.2972,  ..., 0.3978, 0.3235, 0.4670],\n",
       "        [0.2977, 0.4607, 0.3381,  ..., 0.4372, 0.3473, 0.3409],\n",
       "        [0.4257, 0.5019, 0.3317,  ..., 0.3102, 0.7870, 0.3433]],\n",
       "       device='cuda:0')"
      ]
     },
     "execution_count": 25,
     "metadata": {},
     "output_type": "execute_result"
    }
   ],
   "source": [
    "cosine_scores = util.cos_sim(embeddings1, embeddings2)\n",
    "cosine_scores"
   ]
  },
  {
   "cell_type": "code",
   "execution_count": 26,
   "id": "094f05a2-4952-46c2-b7d3-0ba136b43ebc",
   "metadata": {},
   "outputs": [],
   "source": [
    "top10_list  = [torch.topk(cosine_scores[:,i], 10).indices.tolist() for i in range(10)]"
   ]
  },
  {
   "cell_type": "code",
   "execution_count": 27,
   "id": "2d2b608c-c30b-4512-93db-f1831b476910",
   "metadata": {},
   "outputs": [],
   "source": [
    "ST_recs = []\n",
    "for e, top in enumerate(top10_list):\n",
    "    title_ST = [df_train.iloc[i].Title for i in top]\n",
    "    url_ST = [\"http://arxiv.org/abs/\"+ df_train.iloc[i].Id for i in top]\n",
    "    ST_recs.append({\"Title\":title_ST, \"URL\": url_ST, \"ST_score\":torch.topk(cosine_scores[:,e], 10).values.tolist()})"
   ]
  },
  {
   "cell_type": "code",
   "execution_count": 29,
   "id": "b47be154-1297-43e8-9621-9cbf89708682",
   "metadata": {},
   "outputs": [
    {
     "data": {
      "text/plain": [
       "{'Title': [\"Don't Prompt, Search! Mining-based Zero-Shot Learning with Language Models\",\n",
       "  'i-MAE: Are Latent Representations in Masked Autoencoders Linearly Separable?',\n",
       "  'Few-shot Text Classification with Dual Contrastive Consistency',\n",
       "  'Masked Modeling Duo: Learning Representations by Encouraging Both Networks to Model the Input',\n",
       "  'Fine-Tuning Pre-trained Transformers into Decaying Fast Weights',\n",
       "  'Masked Contrastive Representation Learning',\n",
       "  'Replacing Language Model for Style Transfer',\n",
       "  'Probing for Incremental Parse States in Autoregressive Language Models',\n",
       "  'On Reality and the Limits of Language Data',\n",
       "  'How Mask Matters: Towards Theoretical Understandings of Masked Autoencoders'],\n",
       " 'URL': ['http://arxiv.org/abs/2210.14803v1',\n",
       "  'http://arxiv.org/abs/2210.11470v1',\n",
       "  'http://arxiv.org/abs/2209.15069v1',\n",
       "  'http://arxiv.org/abs/2210.14648v1',\n",
       "  'http://arxiv.org/abs/2210.04243v1',\n",
       "  'http://arxiv.org/abs/2211.06012v1',\n",
       "  'http://arxiv.org/abs/2211.07343v1',\n",
       "  'http://arxiv.org/abs/2211.09748v1',\n",
       "  'http://arxiv.org/abs/2208.11981v1',\n",
       "  'http://arxiv.org/abs/2210.08344v1'],\n",
       " 'ST_score': [0.71738600730896,\n",
       "  0.657418966293335,\n",
       "  0.6479626893997192,\n",
       "  0.6440509557723999,\n",
       "  0.6369631290435791,\n",
       "  0.6318027377128601,\n",
       "  0.6219823360443115,\n",
       "  0.6203888654708862,\n",
       "  0.6178366541862488,\n",
       "  0.6132388114929199]}"
      ]
     },
     "execution_count": 29,
     "metadata": {},
     "output_type": "execute_result"
    }
   ],
   "source": [
    "ST_recs[9]"
   ]
  },
  {
   "cell_type": "code",
   "execution_count": 160,
   "id": "b32f073f-dcad-4bfa-8140-ab12bc7a0bd0",
   "metadata": {},
   "outputs": [
    {
     "data": {
      "text/html": [
       "<div>\n",
       "<style scoped>\n",
       "    .dataframe tbody tr th:only-of-type {\n",
       "        vertical-align: middle;\n",
       "    }\n",
       "\n",
       "    .dataframe tbody tr th {\n",
       "        vertical-align: top;\n",
       "    }\n",
       "\n",
       "    .dataframe thead th {\n",
       "        text-align: right;\n",
       "    }\n",
       "</style>\n",
       "<table border=\"1\" class=\"dataframe\">\n",
       "  <thead>\n",
       "    <tr style=\"text-align: right;\">\n",
       "      <th></th>\n",
       "      <th>Title</th>\n",
       "      <th>Recommendation</th>\n",
       "      <th>Cosine_Similarity</th>\n",
       "    </tr>\n",
       "  </thead>\n",
       "  <tbody>\n",
       "    <tr>\n",
       "      <th>25</th>\n",
       "      <td>Node Copying: A Random Graph Model for Effecti...</td>\n",
       "      <td>A Framework for Large Scale Synthetic Graph Da...</td>\n",
       "      <td>0.707458</td>\n",
       "    </tr>\n",
       "    <tr>\n",
       "      <th>86</th>\n",
       "      <td>MOVE: Effective and Harmless Ownership Verific...</td>\n",
       "      <td>Efficiently Finding Adversarial Examples with ...</td>\n",
       "      <td>0.751383</td>\n",
       "    </tr>\n",
       "  </tbody>\n",
       "</table>\n",
       "</div>"
      ],
      "text/plain": [
       "                                                Title  \\\n",
       "25  Node Copying: A Random Graph Model for Effecti...   \n",
       "86  MOVE: Effective and Harmless Ownership Verific...   \n",
       "\n",
       "                                       Recommendation  Cosine_Similarity  \n",
       "25  A Framework for Large Scale Synthetic Graph Da...           0.707458  \n",
       "86  Efficiently Finding Adversarial Examples with ...           0.751383  "
      ]
     },
     "execution_count": 160,
     "metadata": {},
     "output_type": "execute_result"
    }
   ],
   "source": [
    "title_test_100 = []\n",
    "score_test_100 = []\n",
    "recs_test_100 = []\n",
    "for i in range(10):\n",
    "    title_test_100 += [df_test.loc[i + 9990].Title]*10\n",
    "    recs_test_100  += ST_recs[i][\"Title\"]\n",
    "    score_test_100 += ST_recs[i][\"ST_score\"]\n",
    "d = {\"Title\":title_test_100,\"Recommendation\":recs_test_100,\"Cosine_Similarity\":score_test_100}\n",
    "final_SenTrans = pd.DataFrame(data=d)\n",
    "final_SenTrans.sample(2)"
   ]
  },
  {
   "cell_type": "code",
   "execution_count": 163,
   "id": "a6fa391c-ac83-4bb0-8293-f805b8d16f6b",
   "metadata": {},
   "outputs": [],
   "source": [
    "final_SenTrans.to_csv(\"SBERT_FINAL_TEST.csv\")"
   ]
  },
  {
   "cell_type": "code",
   "execution_count": null,
   "id": "dec40c07-f9c7-406c-b026-d05910ee02ab",
   "metadata": {},
   "outputs": [],
   "source": []
  }
 ],
 "metadata": {
  "kernelspec": {
   "display_name": "Python 3 (ipykernel)",
   "language": "python",
   "name": "python3"
  },
  "language_info": {
   "codemirror_mode": {
    "name": "ipython",
    "version": 3
   },
   "file_extension": ".py",
   "mimetype": "text/x-python",
   "name": "python",
   "nbconvert_exporter": "python",
   "pygments_lexer": "ipython3",
   "version": "3.9.13"
  }
 },
 "nbformat": 4,
 "nbformat_minor": 5
}
